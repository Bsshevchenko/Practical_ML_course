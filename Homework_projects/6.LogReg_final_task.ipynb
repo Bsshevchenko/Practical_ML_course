{
  "cells": [
    {
      "cell_type": "markdown",
      "metadata": {
        "id": "FtRSA6FevXlO"
      },
      "source": [
        "# Логистическая регрессия. Практика"
      ]
    },
    {
      "cell_type": "markdown",
      "metadata": {
        "id": "Q7ytv2GMjpGZ"
      },
      "source": [
        "В этом задании вам предлагается спрогнозировать, купит клиент велосипед или нет, обучив логистическую регрессию."
      ]
    },
    {
      "cell_type": "code",
      "execution_count": 69,
      "metadata": {
        "id": "aPDB2wP8jndz"
      },
      "outputs": [],
      "source": [
        "# подключим библиотеки\n",
        "import matplotlib.pyplot as plt\n",
        "import numpy as np\n",
        "import pandas as pd\n",
        "\n",
        "import warnings\n",
        "warnings.filterwarnings(\"ignore\")"
      ]
    },
    {
      "cell_type": "code",
      "execution_count": 70,
      "metadata": {
        "id": "7Zw7RmtAjn8O"
      },
      "outputs": [],
      "source": [
        "# считаем данные\n",
        "data = pd.read_csv('https://raw.githubusercontent.com/evgpat/edu_stepik_practical_ml/main/datasets/bike_buyers_clean.csv')"
      ]
    },
    {
      "cell_type": "code",
      "execution_count": 71,
      "metadata": {
        "id": "3QbRGWqJjxOv"
      },
      "outputs": [
        {
          "data": {
            "text/html": [
              "<div>\n",
              "<style scoped>\n",
              "    .dataframe tbody tr th:only-of-type {\n",
              "        vertical-align: middle;\n",
              "    }\n",
              "\n",
              "    .dataframe tbody tr th {\n",
              "        vertical-align: top;\n",
              "    }\n",
              "\n",
              "    .dataframe thead th {\n",
              "        text-align: right;\n",
              "    }\n",
              "</style>\n",
              "<table border=\"1\" class=\"dataframe\">\n",
              "  <thead>\n",
              "    <tr style=\"text-align: right;\">\n",
              "      <th></th>\n",
              "      <th>ID</th>\n",
              "      <th>Marital Status</th>\n",
              "      <th>Gender</th>\n",
              "      <th>Income</th>\n",
              "      <th>Children</th>\n",
              "      <th>Education</th>\n",
              "      <th>Occupation</th>\n",
              "      <th>Home Owner</th>\n",
              "      <th>Cars</th>\n",
              "      <th>Commute Distance</th>\n",
              "      <th>Region</th>\n",
              "      <th>Age</th>\n",
              "      <th>Purchased Bike</th>\n",
              "    </tr>\n",
              "  </thead>\n",
              "  <tbody>\n",
              "    <tr>\n",
              "      <th>0</th>\n",
              "      <td>12496</td>\n",
              "      <td>Married</td>\n",
              "      <td>Female</td>\n",
              "      <td>40000</td>\n",
              "      <td>1</td>\n",
              "      <td>Bachelors</td>\n",
              "      <td>Skilled Manual</td>\n",
              "      <td>Yes</td>\n",
              "      <td>0</td>\n",
              "      <td>0-1 Miles</td>\n",
              "      <td>Europe</td>\n",
              "      <td>42</td>\n",
              "      <td>No</td>\n",
              "    </tr>\n",
              "    <tr>\n",
              "      <th>1</th>\n",
              "      <td>24107</td>\n",
              "      <td>Married</td>\n",
              "      <td>Male</td>\n",
              "      <td>30000</td>\n",
              "      <td>3</td>\n",
              "      <td>Partial College</td>\n",
              "      <td>Clerical</td>\n",
              "      <td>Yes</td>\n",
              "      <td>1</td>\n",
              "      <td>0-1 Miles</td>\n",
              "      <td>Europe</td>\n",
              "      <td>43</td>\n",
              "      <td>No</td>\n",
              "    </tr>\n",
              "    <tr>\n",
              "      <th>2</th>\n",
              "      <td>14177</td>\n",
              "      <td>Married</td>\n",
              "      <td>Male</td>\n",
              "      <td>80000</td>\n",
              "      <td>5</td>\n",
              "      <td>Partial College</td>\n",
              "      <td>Professional</td>\n",
              "      <td>No</td>\n",
              "      <td>2</td>\n",
              "      <td>2-5 Miles</td>\n",
              "      <td>Europe</td>\n",
              "      <td>60</td>\n",
              "      <td>No</td>\n",
              "    </tr>\n",
              "    <tr>\n",
              "      <th>3</th>\n",
              "      <td>24381</td>\n",
              "      <td>Single</td>\n",
              "      <td>Male</td>\n",
              "      <td>70000</td>\n",
              "      <td>0</td>\n",
              "      <td>Bachelors</td>\n",
              "      <td>Professional</td>\n",
              "      <td>Yes</td>\n",
              "      <td>1</td>\n",
              "      <td>5-10 Miles</td>\n",
              "      <td>Pacific</td>\n",
              "      <td>41</td>\n",
              "      <td>Yes</td>\n",
              "    </tr>\n",
              "    <tr>\n",
              "      <th>4</th>\n",
              "      <td>25597</td>\n",
              "      <td>Single</td>\n",
              "      <td>Male</td>\n",
              "      <td>30000</td>\n",
              "      <td>0</td>\n",
              "      <td>Bachelors</td>\n",
              "      <td>Clerical</td>\n",
              "      <td>No</td>\n",
              "      <td>0</td>\n",
              "      <td>0-1 Miles</td>\n",
              "      <td>Europe</td>\n",
              "      <td>36</td>\n",
              "      <td>Yes</td>\n",
              "    </tr>\n",
              "  </tbody>\n",
              "</table>\n",
              "</div>"
            ],
            "text/plain": [
              "      ID Marital Status  Gender  Income  Children        Education  \\\n",
              "0  12496        Married  Female   40000         1        Bachelors   \n",
              "1  24107        Married    Male   30000         3  Partial College   \n",
              "2  14177        Married    Male   80000         5  Partial College   \n",
              "3  24381         Single    Male   70000         0        Bachelors   \n",
              "4  25597         Single    Male   30000         0        Bachelors   \n",
              "\n",
              "       Occupation Home Owner  Cars Commute Distance   Region  Age  \\\n",
              "0  Skilled Manual        Yes     0        0-1 Miles   Europe   42   \n",
              "1        Clerical        Yes     1        0-1 Miles   Europe   43   \n",
              "2    Professional         No     2        2-5 Miles   Europe   60   \n",
              "3    Professional        Yes     1       5-10 Miles  Pacific   41   \n",
              "4        Clerical         No     0        0-1 Miles   Europe   36   \n",
              "\n",
              "  Purchased Bike  \n",
              "0             No  \n",
              "1             No  \n",
              "2             No  \n",
              "3            Yes  \n",
              "4            Yes  "
            ]
          },
          "execution_count": 71,
          "metadata": {},
          "output_type": "execute_result"
        }
      ],
      "source": [
        "# выводим первые 5 строк датафрейма\n",
        "data.head(5)"
      ]
    },
    {
      "cell_type": "code",
      "execution_count": 72,
      "metadata": {
        "id": "UZz-ce-QnzaU"
      },
      "outputs": [
        {
          "data": {
            "text/plain": [
              "(1000, 13)"
            ]
          },
          "execution_count": 72,
          "metadata": {},
          "output_type": "execute_result"
        }
      ],
      "source": [
        "# смотрим размер датафрейма\n",
        "data.shape"
      ]
    },
    {
      "cell_type": "markdown",
      "metadata": {
        "id": "HbnaQJxw2mHQ"
      },
      "source": [
        "Выведите статистики по категориальным признакам, чтобы посмотреть, сколько категорий в каждом категориальном (нечисловом) признаке.\n",
        "\n",
        "Для этого можно воспользоваться методом `describe` из библиотеки pandas со значением параметра `include = 'object'`."
      ]
    },
    {
      "cell_type": "markdown",
      "metadata": {
        "id": "j1hhZ95gGt-w"
      },
      "source": [
        "**Вопрос:** в каком категориальном признаке встречаются три различных значения?"
      ]
    },
    {
      "cell_type": "code",
      "execution_count": 73,
      "metadata": {
        "id": "_yYv_Ma18A9A"
      },
      "outputs": [
        {
          "data": {
            "text/html": [
              "<div>\n",
              "<style scoped>\n",
              "    .dataframe tbody tr th:only-of-type {\n",
              "        vertical-align: middle;\n",
              "    }\n",
              "\n",
              "    .dataframe tbody tr th {\n",
              "        vertical-align: top;\n",
              "    }\n",
              "\n",
              "    .dataframe thead th {\n",
              "        text-align: right;\n",
              "    }\n",
              "</style>\n",
              "<table border=\"1\" class=\"dataframe\">\n",
              "  <thead>\n",
              "    <tr style=\"text-align: right;\">\n",
              "      <th></th>\n",
              "      <th>Marital Status</th>\n",
              "      <th>Gender</th>\n",
              "      <th>Education</th>\n",
              "      <th>Occupation</th>\n",
              "      <th>Home Owner</th>\n",
              "      <th>Commute Distance</th>\n",
              "      <th>Region</th>\n",
              "      <th>Purchased Bike</th>\n",
              "    </tr>\n",
              "  </thead>\n",
              "  <tbody>\n",
              "    <tr>\n",
              "      <th>count</th>\n",
              "      <td>1000</td>\n",
              "      <td>1000</td>\n",
              "      <td>1000</td>\n",
              "      <td>1000</td>\n",
              "      <td>1000</td>\n",
              "      <td>1000</td>\n",
              "      <td>1000</td>\n",
              "      <td>1000</td>\n",
              "    </tr>\n",
              "    <tr>\n",
              "      <th>unique</th>\n",
              "      <td>2</td>\n",
              "      <td>2</td>\n",
              "      <td>5</td>\n",
              "      <td>5</td>\n",
              "      <td>2</td>\n",
              "      <td>5</td>\n",
              "      <td>3</td>\n",
              "      <td>2</td>\n",
              "    </tr>\n",
              "    <tr>\n",
              "      <th>top</th>\n",
              "      <td>Married</td>\n",
              "      <td>Male</td>\n",
              "      <td>Bachelors</td>\n",
              "      <td>Professional</td>\n",
              "      <td>Yes</td>\n",
              "      <td>0-1 Miles</td>\n",
              "      <td>North America</td>\n",
              "      <td>No</td>\n",
              "    </tr>\n",
              "    <tr>\n",
              "      <th>freq</th>\n",
              "      <td>539</td>\n",
              "      <td>509</td>\n",
              "      <td>306</td>\n",
              "      <td>276</td>\n",
              "      <td>685</td>\n",
              "      <td>366</td>\n",
              "      <td>508</td>\n",
              "      <td>519</td>\n",
              "    </tr>\n",
              "  </tbody>\n",
              "</table>\n",
              "</div>"
            ],
            "text/plain": [
              "       Marital Status Gender  Education    Occupation Home Owner  \\\n",
              "count            1000   1000       1000          1000       1000   \n",
              "unique              2      2          5             5          2   \n",
              "top           Married   Male  Bachelors  Professional        Yes   \n",
              "freq              539    509        306           276        685   \n",
              "\n",
              "       Commute Distance         Region Purchased Bike  \n",
              "count              1000           1000           1000  \n",
              "unique                5              3              2  \n",
              "top           0-1 Miles  North America             No  \n",
              "freq                366            508            519  "
            ]
          },
          "execution_count": 73,
          "metadata": {},
          "output_type": "execute_result"
        }
      ],
      "source": [
        "data.describe(include='object')"
      ]
    },
    {
      "cell_type": "markdown",
      "metadata": {
        "id": "R2MMCJkr8U5U"
      },
      "source": [
        "Закодируйте все категориальные столбцы с двумя категориями следующим образом:  \n",
        "самая часто встречающаяся категория превращается в 1, другая в 0."
      ]
    },
    {
      "cell_type": "code",
      "execution_count": 74,
      "metadata": {
        "id": "QzIOrBnA8eJa"
      },
      "outputs": [],
      "source": [
        "data['Marital Status'] = data['Marital Status'].map({'Married' : 1, 'Single' : 0})\n",
        "data['Gender'] = data['Gender'].map({'Male' : 1, 'Female' : 0})\n",
        "data['Home Owner'] = data['Home Owner'].map({'Yes' : 1, 'No' : 0})\n",
        "data['Purchased Bike'] = data['Purchased Bike'].map({'No': 1,'Yes': 0})"
      ]
    },
    {
      "cell_type": "markdown",
      "metadata": {
        "id": "qdDV_Cys9PAs"
      },
      "source": [
        "Удалите остальные категориальные столбцы.\n",
        "\n",
        "**Вопрос:** сколько категориальных столбцов вы удалили?"
      ]
    },
    {
      "cell_type": "code",
      "execution_count": 75,
      "metadata": {
        "id": "N2sYdyjw9R6I"
      },
      "outputs": [],
      "source": [
        "data = data.drop(['Education', 'Occupation', 'Commute Distance', 'Region'], axis = 1)"
      ]
    },
    {
      "cell_type": "markdown",
      "metadata": {
        "id": "0hjsUxpx9cAq"
      },
      "source": [
        "Удалите столбец `ID`, так как он по сути нечисловой."
      ]
    },
    {
      "cell_type": "code",
      "execution_count": 76,
      "metadata": {
        "id": "tbqbqjuE9gKV"
      },
      "outputs": [],
      "source": [
        "data = data.drop(['ID'], axis = 1)"
      ]
    },
    {
      "cell_type": "markdown",
      "metadata": {
        "id": "4QjeoiTJ9j1u"
      },
      "source": [
        "Сформируйте матрицу объект-признак `X` и вектор `y` с целевой переменной.  \n",
        "Целевая переменная - это последний столбец, `Purchased Bike`."
      ]
    },
    {
      "cell_type": "code",
      "execution_count": 77,
      "metadata": {
        "id": "jYY7sZbu9_wM"
      },
      "outputs": [],
      "source": [
        "X, y = data.drop('Purchased Bike', axis=1), data['Purchased Bike']"
      ]
    },
    {
      "cell_type": "markdown",
      "metadata": {
        "id": "Cwxl-CUX-452"
      },
      "source": [
        "Разбейте данные на тренировочную и тестовую часть (`Xtrain`, `Xtest`, `ytrain`, `ytest`), в тест отправьте 30% данных.  \n",
        "Зафиксируйте `random_state = 42`."
      ]
    },
    {
      "cell_type": "code",
      "execution_count": 78,
      "metadata": {
        "id": "fquWQf8e--Zn"
      },
      "outputs": [],
      "source": [
        "from sklearn.model_selection import train_test_split\n",
        "\n",
        "Xtrain, Xtest, ytrain, ytest = train_test_split(X, y, test_size=0.3, random_state=42)"
      ]
    },
    {
      "cell_type": "markdown",
      "metadata": {
        "id": "6-Ki4tjHG6pt"
      },
      "source": [
        "**Вопрос:** сколько объектов в матрице `Xtrain`?"
      ]
    },
    {
      "cell_type": "code",
      "execution_count": 79,
      "metadata": {
        "id": "XFIuu2b9G92Q"
      },
      "outputs": [
        {
          "name": "stdout",
          "output_type": "stream",
          "text": [
            "700 объектов\n"
          ]
        }
      ],
      "source": [
        "print(f'{Xtrain.shape[0]} объектов')"
      ]
    },
    {
      "cell_type": "markdown",
      "metadata": {
        "id": "ZBdAk3RM-FQ4"
      },
      "source": [
        "Почти всё готово для обучения модели!\n",
        "\n",
        "Осталось отмасштабировать матрицу `X`, так как линейные модели чувствительны к масштабу данных.\n",
        "\n",
        "*  Обучите на тренировочной матрице (`Xtrain`) `MinMaxScaler` из библиотеки `sklearn.preprocessing`\n",
        "*  Примените масштабирование и к `Xtrain`, и к `Xtest`\n",
        "*  Переведите полученные после масштабирования `np.array` обратно в pandas `dataframe`.\n",
        "\n",
        "Полученные масштабированные матрицы назовите, как и раньше, `Xtrain` и `Xtest`."
      ]
    },
    {
      "cell_type": "code",
      "execution_count": 80,
      "metadata": {
        "id": "sxwLdpAK-oJp"
      },
      "outputs": [],
      "source": [
        "from sklearn.preprocessing import MinMaxScaler\n",
        "\n",
        "scaler = MinMaxScaler()\n",
        "Xtrain = pd.DataFrame(scaler.fit_transform(Xtrain), columns=X.columns)\n",
        "Xtest = pd.DataFrame(scaler.transform(Xtest), columns=X.columns)\n"
      ]
    },
    {
      "cell_type": "markdown",
      "metadata": {
        "id": "9g3cyUKPqgqu"
      },
      "source": [
        "Теперь обучите логистическую регрессию на тренировочных данных"
      ]
    },
    {
      "cell_type": "markdown",
      "metadata": {
        "id": "a5nWN5OV_eTO"
      },
      "source": [
        "Сделайте предсказания на тренировочных и на тестовых данных."
      ]
    },
    {
      "cell_type": "markdown",
      "metadata": {
        "id": "ZFOiK8N5_oh_"
      },
      "source": [
        "Оцените значение accuracy на трейне и на тесте."
      ]
    },
    {
      "cell_type": "code",
      "execution_count": 81,
      "metadata": {
        "id": "efySFKgej1_1"
      },
      "outputs": [
        {
          "name": "stdout",
          "output_type": "stream",
          "text": [
            "Accurasy: 0.58\n"
          ]
        }
      ],
      "source": [
        "from sklearn.linear_model import LogisticRegression\n",
        "from sklearn.metrics import accuracy_score\n",
        "\n",
        "model = LogisticRegression()\n",
        "model.fit(Xtrain, ytrain)\n",
        "ypred = model.predict(Xtest)\n",
        "\n",
        "print(f'Accurasy: {accuracy_score(ytest, ypred).round(2)}')"
      ]
    },
    {
      "cell_type": "code",
      "execution_count": 82,
      "metadata": {},
      "outputs": [
        {
          "name": "stdout",
          "output_type": "stream",
          "text": [
            "(300, 7) (700, 7)\n"
          ]
        }
      ],
      "source": [
        "print(Xtest.shape, Xtrain.shape)"
      ]
    },
    {
      "cell_type": "markdown",
      "metadata": {
        "id": "hapdxPhK_zvc"
      },
      "source": [
        "Качество модели получилось невысоким, зато модель не переобучена."
      ]
    },
    {
      "cell_type": "markdown",
      "metadata": {
        "id": "pEQfWP8h_4hm"
      },
      "source": [
        "Попробуем добавить новых признаков в модель, используя [PolynomialFeatures](https://scikit-learn.org/stable/modules/generated/sklearn.preprocessing.PolynomialFeatures.html).\n",
        "\n",
        "Создайте полиномиальные признаки degree = 2.\n",
        "\n",
        "Как обычно:\n",
        "*  `fit` делайте на тренировочных данных\n",
        "*  `transform` и на тренировочных, и на тестовых данных. Затем верните результат к формату pandas `dataframe`.\n",
        "\n",
        "Полученные матрицы назовите, как и раньше, `Xtrain` и `Xtest`."
      ]
    },
    {
      "cell_type": "code",
      "execution_count": 83,
      "metadata": {
        "id": "MzT-Tl5wANZk"
      },
      "outputs": [],
      "source": [
        "from sklearn.preprocessing import PolynomialFeatures\n",
        "\n",
        "poly = PolynomialFeatures(degree=2)\n",
        "Xtrain_poly = pd.DataFrame(poly.fit_transform(Xtrain))\n",
        "Xtest_poly = pd.DataFrame(poly.transform(Xtest))\n"
      ]
    },
    {
      "cell_type": "markdown",
      "metadata": {
        "id": "ZzlQMf9LHPhE"
      },
      "source": [
        "**Вопрос:** на сколько признаков стало больше при добавлении полиномиальных признаков второй степени?"
      ]
    },
    {
      "cell_type": "code",
      "execution_count": 87,
      "metadata": {},
      "outputs": [
        {
          "name": "stdout",
          "output_type": "stream",
          "text": [
            "Добавилось 29 признаков\n"
          ]
        }
      ],
      "source": [
        "print(f'Добавилось {Xtrain_poly.shape[1] - Xtrain.shape[1]} признаков')"
      ]
    },
    {
      "cell_type": "markdown",
      "metadata": {
        "id": "CjGzWJQZA8hM"
      },
      "source": [
        "Заново обучите логистическую регрессию, уже на расширенной матрице признаков, и сделайте предсказания на трейне и тесте, а затем оцените качество (*accuracy*)."
      ]
    },
    {
      "cell_type": "code",
      "execution_count": 88,
      "metadata": {
        "id": "2-HDOPblBEGv"
      },
      "outputs": [
        {
          "name": "stdout",
          "output_type": "stream",
          "text": [
            "Accurasy: 0.62\n"
          ]
        }
      ],
      "source": [
        "model.fit(Xtrain_poly, ytrain)\n",
        "ypred = model.predict(Xtest_poly)\n",
        "print(f'Accurasy: {accuracy_score(ytest, ypred).round(2)}')"
      ]
    },
    {
      "cell_type": "markdown",
      "metadata": {
        "id": "QwmRr1GjBSzj"
      },
      "source": [
        "**Вопрос:** на сколько повысилось качество модели на тестовых данных?  \n",
        "Ответ округлите до сотых."
      ]
    },
    {
      "cell_type": "markdown",
      "metadata": {},
      "source": [
        "**Ответ:** на 0.04"
      ]
    },
    {
      "cell_type": "markdown",
      "metadata": {
        "id": "N4zMaBDVBeNp"
      },
      "source": [
        "Появились новые требования от заказчика!\n",
        "\n",
        "Заказчик просит, чтобы:\n",
        "*  доля найденных моделью потенциальных покупателей была максимальной\n",
        "*  accuracy при этом была не ниже, чем 0.6 (отклонения *accuracy* на тестовых данных на $\\pm 0.05$ допустимы)."
      ]
    },
    {
      "cell_type": "markdown",
      "metadata": {
        "id": "wI0dQoHdFH84"
      },
      "source": [
        "Сначала посмотрите, какие значения *recall* и *accuracy* имеют предсказния модели на тесте с классами, предсказанными по умолчанию (методом `predict`)."
      ]
    },
    {
      "cell_type": "code",
      "execution_count": 93,
      "metadata": {
        "id": "IsnATTD1FQi7"
      },
      "outputs": [
        {
          "name": "stdout",
          "output_type": "stream",
          "text": [
            "Recall: 0.696\n",
            "Accurasy: 0.62\n"
          ]
        }
      ],
      "source": [
        "from sklearn.metrics import recall_score\n",
        "\n",
        "print(f'Recall: {recall_score(ytest, ypred).round(3)}')\n",
        "print(f'Accurasy: {accuracy_score(ytest, ypred).round(2)}')"
      ]
    },
    {
      "cell_type": "markdown",
      "metadata": {
        "id": "wJPY-nREFFo2"
      },
      "source": [
        "Подберём порог для перевода вероятностей в классы, чтобы оптимизировать требуемые метрики!\n",
        "\n",
        "Разобъем тренировочные данные на трейн и валидацию, чтобы по валидационной части подбирать порог."
      ]
    },
    {
      "cell_type": "code",
      "execution_count": 94,
      "metadata": {
        "id": "p5xH5iBcB4bp"
      },
      "outputs": [
        {
          "data": {
            "text/plain": [
              "((490, 7), (210, 7))"
            ]
          },
          "execution_count": 94,
          "metadata": {},
          "output_type": "execute_result"
        }
      ],
      "source": [
        "XtrainS, Xval, ytrainS, yval = train_test_split(Xtrain, ytrain, test_size=0.3, random_state=42)\n",
        "\n",
        "XtrainS.shape, Xval.shape"
      ]
    },
    {
      "cell_type": "markdown",
      "metadata": {
        "id": "Qlws70k8CZkb"
      },
      "source": [
        "* Обучите модель на тренировочных данных.\n",
        "* Предскажите вероятности положительного класса на валидационных данных\n",
        "\n",
        "В цикле для каждого значения порога:\n",
        "*  переведите вероятности в классы\n",
        "*  вычислите полноту (на валидационных данных)\n",
        "\n",
        "Выведите на экран:\n",
        "\n",
        "1) значение порога, дающее максимальный *recall*, при условии, что *accuracy* $\\geq$ 0.6.\n",
        "\n",
        "2) значение *recall* при этом пороге\n",
        "\n",
        "3) значение *accuracy* для этого порога\n",
        "\n",
        "\n",
        "Ищите порог на отрезке от 0 до 1 с шагом 0.01."
      ]
    },
    {
      "cell_type": "code",
      "execution_count": 108,
      "metadata": {
        "id": "uh-F1HvvB_74"
      },
      "outputs": [
        {
          "name": "stdout",
          "output_type": "stream",
          "text": [
            "Лучший порог для перевода вероятностей в классы 0.43\n",
            "Наилучший recall 0.824 при условии accuracy >= 0.6\n",
            "Оптимальный accuracy 0.6\n"
          ]
        }
      ],
      "source": [
        "from sklearn.metrics import recall_score\n",
        "\n",
        "model = LogisticRegression()\n",
        "model.fit(XtrainS, ytrainS)\n",
        "\n",
        "RecMax = -1\n",
        "BestThr = -1\n",
        "BestAcc = -1\n",
        "\n",
        "for thr in np.arange(0, 1, 0.01):\n",
        "    ypred = (model.predict_proba(Xval)[:, 1] > thr).astype(int)\n",
        "    rec = recall_score(yval, ypred)\n",
        "    acc = accuracy_score(yval, ypred)\n",
        "    if rec > RecMax and acc >= 0.6:\n",
        "        RecMax = rec\n",
        "        BestThr = thr\n",
        "        BestAcc = acc\n",
        "    # ваш код здесь\n",
        "\n",
        "print(f'Лучший порог для перевода вероятностей в классы {BestThr}')\n",
        "print(f'Наилучший recall {RecMax.round(3)} при условии accuracy >= 0.6')\n",
        "print(f'Оптимальный accuracy {BestAcc}')"
      ]
    },
    {
      "cell_type": "markdown",
      "metadata": {
        "id": "bV7RBPJRDsUG"
      },
      "source": [
        "Теперь заново обучите модель на исходных тренировочных данных (`Xtrain`, `ytrain`), предскажите вероятности на тесте и переведите их в классы по найденному порогу."
      ]
    },
    {
      "cell_type": "markdown",
      "metadata": {
        "id": "c8W-zTuUHaNl"
      },
      "source": [
        "**Вопрос:** какое значение *recall* получилось на тестовых данных после подбора порога?  "
      ]
    },
    {
      "cell_type": "code",
      "execution_count": 119,
      "metadata": {
        "id": "g51hSqzxDrF7"
      },
      "outputs": [
        {
          "name": "stdout",
          "output_type": "stream",
          "text": [
            " Итого:\n",
            " Recall = 0.811\n",
            " Accuracy = 0.573\n"
          ]
        }
      ],
      "source": [
        "model.fit(Xtrain, ytrain)\n",
        "ypred = (model.predict_proba(Xtest)[ : , 1] > BestThr).astype(int)\n",
        "\n",
        "print(' Итого:')\n",
        "print(f' Recall = {recall_score(ytest, ypred).round(3)}')\n",
        "print(f' Accuracy = {accuracy_score(ytest, ypred).round(3)}')"
      ]
    },
    {
      "cell_type": "markdown",
      "metadata": {
        "id": "hnJuS9MxFxCh"
      },
      "source": [
        "При помощи подбора порога удалось сильно увеличить значение *recall*!  \n",
        "Однако, как видно, на тесте не удалось сохранить условие $accuracy \\geq 0.6$ (но в допустимые рамки уложились!)\n",
        "\n",
        "Это свидетельство небольшого переобучения модели. Однако в сухом остатке имеет значительное увеличение полноты, что является приоритетом для заказчика."
      ]
    }
  ],
  "metadata": {
    "colab": {
      "provenance": []
    },
    "kernelspec": {
      "display_name": "Python 3",
      "name": "python3"
    },
    "language_info": {
      "codemirror_mode": {
        "name": "ipython",
        "version": 3
      },
      "file_extension": ".py",
      "mimetype": "text/x-python",
      "name": "python",
      "nbconvert_exporter": "python",
      "pygments_lexer": "ipython3",
      "version": "3.10.9"
    }
  },
  "nbformat": 4,
  "nbformat_minor": 0
}
