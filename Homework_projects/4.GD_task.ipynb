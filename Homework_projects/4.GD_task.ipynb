{
  "cells": [
    {
      "cell_type": "markdown",
      "metadata": {
        "id": "2rIeJvNmzPJy"
      },
      "source": [
        "# Градиентный спуск. Практика"
      ]
    },
    {
      "cell_type": "markdown",
      "metadata": {
        "id": "krXvdp0bzfJK"
      },
      "source": [
        "## Импорт библиотек, установка константных значений"
      ]
    },
    {
      "cell_type": "code",
      "execution_count": 166,
      "metadata": {
        "id": "X6AuQbUpziB8"
      },
      "outputs": [],
      "source": [
        "import pandas as pd\n",
        "import numpy as np\n",
        "import matplotlib.pyplot as plt\n",
        "import seaborn as sns\n",
        "\n",
        "from sklearn.datasets import make_regression, fetch_california_housing\n",
        "from sklearn.metrics import r2_score\n",
        "from sklearn.model_selection import train_test_split"
      ]
    },
    {
      "cell_type": "code",
      "execution_count": 167,
      "metadata": {
        "id": "47ZRimlw6TEp"
      },
      "outputs": [],
      "source": [
        "RANDOM_STATE = 123\n",
        "TRAIN_SIZE = 0.75"
      ]
    },
    {
      "cell_type": "code",
      "execution_count": 168,
      "metadata": {
        "id": "as1sEBKJt_Yb"
      },
      "outputs": [
        {
          "data": {
            "text/plain": [
              "RandomState(MT19937) at 0x23630360140"
            ]
          },
          "execution_count": 168,
          "metadata": {},
          "output_type": "execute_result"
        }
      ],
      "source": [
        "np.random.RandomState(RANDOM_STATE)"
      ]
    },
    {
      "cell_type": "code",
      "execution_count": 169,
      "metadata": {
        "id": "S6nTuMqGGqp2"
      },
      "outputs": [],
      "source": [
        "np.random.seed(RANDOM_STATE)\n",
        "\n",
        "X, y, _ = make_regression(n_samples=100000,              # число объектов\n",
        "                          n_features=10,                 # число признаков\n",
        "                          n_informative=8,               # число информативных признаков\n",
        "                          noise=100,                     # уровень шума в данных\n",
        "                          coef=True,                     # значение True используется при генерации данных\n",
        "                          random_state=RANDOM_STATE)\n",
        "\n",
        "X = pd.DataFrame(data=X, columns=np.arange(0, X.shape[1]))\n",
        "X[10] = X[6] + X[7] + np.random.random()*0.01"
      ]
    },
    {
      "cell_type": "markdown",
      "metadata": {
        "id": "lm6_Ln0GoliG"
      },
      "source": [
        "\n",
        "Напишите функцию, вычисляющую значение весов в линейной регрессии по точной (аналитически найденной) формуле:\n",
        "\n",
        "$$w = (X^TX)^{-1}X^Ty$$\n",
        "\n",
        "Комментарий: для поиска решения в векторном виде сначала необходимо добавить единичный столбец к матрице $X$.\n",
        "Это сделано в коде."
      ]
    },
    {
      "cell_type": "code",
      "execution_count": 170,
      "metadata": {
        "id": "ZrVvpU9miOga"
      },
      "outputs": [],
      "source": [
        "#аналитический подход\n",
        "def ols_solution(X, y):\n",
        "    X = np.hstack((np.ones((X.shape[0], 1)), X))\n",
        "    w = np.linalg.inv(X.T @ X) @ X.T @ y\n",
        "    return w"
      ]
    },
    {
      "cell_type": "markdown",
      "metadata": {
        "id": "AMBKhU7Zhaev"
      },
      "source": [
        "Заполните функцию для предсказания модели по формуле\n",
        "$$a(X)=Xw$$"
      ]
    },
    {
      "cell_type": "code",
      "execution_count": 171,
      "metadata": {
        "id": "CI63O1eUhmyx"
      },
      "outputs": [],
      "source": [
        "def prediction(X, w):\n",
        "    X = np.hstack((np.ones((X.shape[0], 1)), X))\n",
        "    ypred = X @ w\n",
        "    return ypred"
      ]
    },
    {
      "cell_type": "markdown",
      "metadata": {
        "id": "OaPciXsEmznh"
      },
      "source": [
        "Продублируем функцию для вычисления значения MSE из урока"
      ]
    },
    {
      "cell_type": "code",
      "execution_count": 172,
      "metadata": {
        "id": "PqzBobT-m28D"
      },
      "outputs": [],
      "source": [
        "def compute_cost(X, y, theta):\n",
        "    m = len(y)\n",
        "    cost = (1./m) * (np.linalg.norm(X @ theta - y) ** 2)\n",
        "    return cost"
      ]
    },
    {
      "cell_type": "markdown",
      "metadata": {
        "id": "VFANmcnV5DWz"
      },
      "source": [
        "Скопируйте метод градиентного спуска из [урока](https://colab.research.google.com/drive/1Bos0LeQP9AAB-nrS0z8b-8ag5xRSEdty?usp=sharing) в этот ноутбук.\n"
      ]
    },
    {
      "cell_type": "code",
      "execution_count": 173,
      "metadata": {
        "id": "VB9oE8Sg1WG9"
      },
      "outputs": [],
      "source": [
        "def gradient_descent(X, y, learning_rate, iterations):\n",
        "\n",
        "    X = np.hstack((np.ones((X.shape[0], 1)), X)) # добавляем к Х столбец из 1\n",
        "    params = np.random.rand(X.shape[1])\n",
        "\n",
        "    m = X.shape[0]\n",
        "\n",
        "    cost_track = np.zeros((iterations,1))\n",
        "\n",
        "    for i in range(iterations):\n",
        "        params = params - 2./m * learning_rate * (X.T @ ((X @ params) - y))\n",
        "        cost_track[i] = compute_cost(X, y, params)\n",
        "\n",
        "    return cost_track, params\n"
      ]
    },
    {
      "cell_type": "markdown",
      "metadata": {
        "id": "X_3A_UGWztbY"
      },
      "source": [
        "### Бонус для отважных"
      ]
    },
    {
      "cell_type": "markdown",
      "metadata": {
        "id": "GMujXdy75Lb2"
      },
      "source": [
        "Если чувствуете в себе силы, попробуйте написать SGD сами."
      ]
    },
    {
      "cell_type": "markdown",
      "metadata": {
        "id": "_shCsTQ1pVcU"
      },
      "source": [
        "Модифицируйте метод градиентного спуска из урока так, чтобы это теперь был метод стохастического градиентного спуска:\n",
        "\n",
        "* на каждой итерации выбирайте один случайный индекс `j` при помощи функции `random.randint`\n",
        "\n",
        "* градиент на каждой итерации градиентного спуска считайте не как сумму градиентов по всем объектам, а только по одному объекту с индексом `j`\n",
        "\n",
        "* на каждой итерации вычисляйте значение функции потерь и сохраняйте в список `cost_track`, который верните вместе с результатом работы функции"
      ]
    },
    {
      "cell_type": "code",
      "execution_count": 174,
      "metadata": {
        "id": "fTZWxz1zpb9R"
      },
      "outputs": [],
      "source": [
        "import random\n",
        "\n",
        "def stochastic_gradient_descent(X, y, learning_rate, iterations):\n",
        "\n",
        "    X = np.hstack((np.ones((X.shape[0], 1)), X))\n",
        "    params = np.random.rand(X.shape[1])\n",
        "    m = X.shape[0]\n",
        "    cost_track = np.zeros((iterations,1))\n",
        "    \n",
        "    for i in range(iterations):\n",
        "        ind = np.random.randint(0, m)\n",
        "        gradient = 2./m * learning_rate * (X[ind].T * ((X[ind] @ params) - y[ind]))  # вычисляем градиент по одному объекту\n",
        "        params -= gradient \n",
        "        cost_track[i] = compute_cost(X, y, params)\n",
        "\n",
        "    return cost_track, params"
      ]
    },
    {
      "cell_type": "markdown",
      "metadata": {
        "id": "WnRlUa9Npi9o"
      },
      "source": [
        "- Обучите линейную регрессию тремя методами (по точной формуле, с помощью GD и с помощью SGD) на данных для задачи регрессии ($X, y$). Для GD и самостоятельно написанного SGD используйте `learning_rate = 0.01, iterations = 10000`.\n",
        "\n",
        "*P.S. Если же вы используете не самописный SGD, а SGDRegressor из библиотеки sklearn.linear_model, то его объявляйте с гиперпараметрами по умолчанию, то есть в скобках при объявлении модели ничего не указывайте.*\n",
        "\n",
        "- С помощью каждого метода сделайте предсказание (на всех данных), вычислите качество предсказания r2 (`from sklearn.metrics import r2_score`). Для получения предсказания использовуйте функцию `predict`.\n"
      ]
    },
    {
      "cell_type": "code",
      "execution_count": 175,
      "metadata": {
        "id": "2TkO2mh5ky0m"
      },
      "outputs": [],
      "source": [
        "# **План**\n",
        "\n",
        "# 1 - находим веса одним из методов\n",
        "\n",
        "# 2 - применяем функцию prediction для получения предсказаний с найденными весами (либо predict в случае использования SGDRegressor из библиотеки sklearn)\n",
        "\n",
        "# 3 - вычисляем значение метрики r2"
      ]
    },
    {
      "cell_type": "markdown",
      "metadata": {
        "id": "ezvQOKaEkaLX"
      },
      "source": [
        "## Quiz\n",
        "\n",
        "Чему равно значение метрики $R^2$ для аналитического подхода?\n",
        "\n",
        "Ответ округлите до сотых."
      ]
    },
    {
      "cell_type": "code",
      "execution_count": 176,
      "metadata": {
        "id": "zer-Ar_ekU7q"
      },
      "outputs": [],
      "source": [
        "from sklearn.metrics import r2_score"
      ]
    },
    {
      "cell_type": "code",
      "execution_count": 177,
      "metadata": {
        "id": "5cVilZVsmAys"
      },
      "outputs": [
        {
          "name": "stdout",
          "output_type": "stream",
          "text": [
            "R2 для аналитического подхода 0.75\n",
            "CPU times: total: 62.5 ms\n",
            "Wall time: 36.1 ms\n"
          ]
        }
      ],
      "source": [
        "%%time\n",
        "w = ols_solution(X, y)\n",
        "ypred = prediction(X, w)\n",
        "print(f'R2 для аналитического подхода {r2_score(y, ypred).round(2)}')\n"
      ]
    },
    {
      "cell_type": "code",
      "execution_count": 178,
      "metadata": {},
      "outputs": [
        {
          "name": "stdout",
          "output_type": "stream",
          "text": [
            "R2 для градиентного спуска 0.76\n",
            "CPU times: total: 2min 37s\n",
            "Wall time: 23.7 s\n"
          ]
        }
      ],
      "source": [
        "%%time\n",
        "cost_track, params = gradient_descent(X, y, learning_rate = 0.01, iterations = 10000)\n",
        "ypred_grad = prediction(X, params)\n",
        "print(f'R2 для градиентного спуска {r2_score(y, ypred_grad).round(2)}')\n"
      ]
    },
    {
      "cell_type": "code",
      "execution_count": 179,
      "metadata": {},
      "outputs": [
        {
          "name": "stdout",
          "output_type": "stream",
          "text": [
            "R2 для стохастического градиентного спуска 0.03\n",
            "CPU times: total: 1min 2s\n",
            "Wall time: 9.35 s\n"
          ]
        }
      ],
      "source": [
        "%%time\n",
        "cost_track, params = stochastic_gradient_descent(X, y, learning_rate = 0.01, iterations = 10000)\n",
        "ypred_SGD = prediction(X, params)\n",
        "print(f'R2 для стохастического градиентного спуска {r2_score(y, ypred_SGD).round(2)}')\n"
      ]
    },
    {
      "cell_type": "code",
      "execution_count": 180,
      "metadata": {},
      "outputs": [
        {
          "name": "stdout",
          "output_type": "stream",
          "text": [
            "R2 для стохастического градиентного спуска scikit 0.76\n"
          ]
        }
      ],
      "source": [
        "from sklearn.linear_model import SGDRegressor\n",
        "sgd = SGDRegressor()\n",
        "sgd.fit(X, y)\n",
        "ypred_sgd_scikit = sgd.predict(X)\n",
        "print(f'R2 для стохастического градиентного спуска scikit {r2_score(y, ypred_sgd_scikit).round(2)}')"
      ]
    },
    {
      "cell_type": "markdown",
      "metadata": {
        "id": "HaasnKmj2Eje"
      },
      "source": [
        "## Quiz\n",
        "\n",
        "Нарисуйте траекторию уменьшения ошибки при обучении градиентного спуска (это параметр `cost_track`, возвращаемый функцией).\n",
        "\n",
        "Чему приблизительно равен loss модели на последних итерациях?\n",
        "\n",
        "Выберите наиболее близкий к полученному вами ответ."
      ]
    },
    {
      "cell_type": "code",
      "execution_count": 181,
      "metadata": {
        "id": "CNTHJzS22QeT"
      },
      "outputs": [
        {
          "data": {
            "image/png": "[encoded data removed]",
            "text/plain": [
              "<Figure size 640x480 with 1 Axes>"
            ]
          },
          "metadata": {},
          "output_type": "display_data"
        }
      ],
      "source": [
        "cost_track, params = gradient_descent(X, y, learning_rate=0.01, iterations= 1000)\n",
        "plt.plot(cost_track)\n",
        "plt.xlabel('Iterations')\n",
        "plt.ylabel('Loss value')\n",
        "plt.show()"
      ]
    },
    {
      "cell_type": "markdown",
      "metadata": {
        "id": "hE7jBuyWkePj"
      },
      "source": [
        "## Quiz\n",
        "\n",
        "Измерьте время работы аналитического подхода, а также GD и SGD (используйте magic command [`%%time`](https://ipython.readthedocs.io/en/stable/interactive/magics.html)).\n",
        "\n",
        "Упорядочите результаты по возрастанию."
      ]
    },
    {
      "cell_type": "markdown",
      "metadata": {
        "id": "7Lne3c3I1swS"
      },
      "source": [
        "## Тестирование моделей на реальных данных\n",
        "\n",
        "В реальных задачах никто не пишет методы с нуля, если они уже реализованы в python. Самостоятельная реализация методов полезна для получения навыков программирования и более глубокого понимания алгоритмов.\n",
        "\n",
        "Давайте применим уже готовые методы из `sklearn` для решения задачи регрессии."
      ]
    },
    {
      "cell_type": "code",
      "execution_count": 182,
      "metadata": {
        "id": "qUhkRgYm1usp"
      },
      "outputs": [],
      "source": [
        "data = fetch_california_housing(as_frame=True)\n",
        "\n",
        "X = data.data\n",
        "y = data.target"
      ]
    },
    {
      "cell_type": "markdown",
      "metadata": {
        "id": "BlsxS_mb18A8"
      },
      "source": [
        "Разобъем данные на трейн и тест"
      ]
    },
    {
      "cell_type": "code",
      "execution_count": 183,
      "metadata": {
        "id": "tKKC-nWE13ek"
      },
      "outputs": [],
      "source": [
        "X_train, X_test, y_train, y_test = train_test_split(\n",
        "    X,\n",
        "    y,\n",
        "    train_size=TRAIN_SIZE,\n",
        "    random_state=RANDOM_STATE\n",
        "    )"
      ]
    },
    {
      "cell_type": "markdown",
      "metadata": {
        "id": "1nxiq6Uq2K47"
      },
      "source": [
        "Для решения этой задачи попробуйте следующие модели:\n",
        "\n",
        "* `LinearRegression` из `sklearn`\n",
        "* `SGDRegressor` из `sklearn`\n",
        "\n",
        "Обучите модели на тренировочных данных с параметрами по умолчанию и сделайте предсказание на тесте.\n",
        "Вычислите значение $R^2$"
      ]
    },
    {
      "cell_type": "markdown",
      "metadata": {
        "id": "hq6lwN9ZmNgL"
      },
      "source": [
        "Чему равно значение $R^2$ для модели LinearRegression на тестовых данных?\n",
        "\n",
        "Ответ округлите до сотых."
      ]
    },
    {
      "cell_type": "code",
      "execution_count": 184,
      "metadata": {
        "id": "PdoNyLJy165x"
      },
      "outputs": [
        {
          "name": "stdout",
          "output_type": "stream",
          "text": [
            "R2 LinearRegression: 0.6078944086580228\n",
            "R2 SGDRegression: -5.71465456768513e+28\n"
          ]
        }
      ],
      "source": [
        "from sklearn.linear_model import LinearRegression, SGDRegressor\n",
        "lr, sgd = LinearRegression(), SGDRegressor()\n",
        "\n",
        "lr.fit(X_train, y_train)\n",
        "sgd.fit(X_train, y_train)\n",
        "\n",
        "ypred_lr, ypred_sgd = lr.predict(X_test), sgd.predict(X_test)\n",
        "\n",
        "print(f'R2 LinearRegression: {r2_score(y_test, ypred_lr)}')\n",
        "print(f'R2 SGDRegression: {r2_score(y_test, ypred_sgd)}')"
      ]
    },
    {
      "cell_type": "markdown",
      "metadata": {
        "id": "BH56-5XHl9qg"
      },
      "source": [
        "## Quiz\n",
        "\n",
        "Какая модель с параметрами по умолчанию лучше справилась с предсказанием стоимости домов в Калифорнии?\n",
        "\n",
        "**Ответ:** LinearRegression"
      ]
    },
    {
      "cell_type": "markdown",
      "metadata": {
        "id": "W2yCxAIL37e7"
      },
      "source": [
        "## Quiz\n",
        "\n",
        "Проинтерпретируйте качество метода SGDRegressor. Выберите наиболее подходящий вариант."
      ]
    },
    {
      "cell_type": "markdown",
      "metadata": {},
      "source": [
        "**Ответ:** R2 отрицательный и большой - метод расходится (не находит минимум функции потерь)"
      ]
    },
    {
      "cell_type": "code",
      "execution_count": null,
      "metadata": {},
      "outputs": [],
      "source": []
    }
  ],
  "metadata": {
    "colab": {
      "provenance": []
    },
    "kernelspec": {
      "display_name": "Python 3",
      "name": "python3"
    },
    "language_info": {
      "codemirror_mode": {
        "name": "ipython",
        "version": 3
      },
      "file_extension": ".py",
      "mimetype": "text/x-python",
      "name": "python",
      "nbconvert_exporter": "python",
      "pygments_lexer": "ipython3",
      "version": "3.10.9"
    }
  },
  "nbformat": 4,
  "nbformat_minor": 0
}
