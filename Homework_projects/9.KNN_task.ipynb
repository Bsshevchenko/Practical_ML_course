{
  "cells": [
    {
      "cell_type": "markdown",
      "metadata": {
        "id": "AkS7Lxm8nTLB"
      },
      "source": [
        "# Метрические алгоритмы. Практика"
      ]
    },
    {
      "cell_type": "markdown",
      "metadata": {
        "id": "3jgxaKLXynLQ"
      },
      "source": [
        "В этом домашнем задании вы будете решать задачу классификации бутылок вина по различным характеристикам."
      ]
    },
    {
      "cell_type": "markdown",
      "metadata": {
        "id": "ow7CdXlWyrfI"
      },
      "source": [
        "## Импорт библиотек, установка константных значений"
      ]
    },
    {
      "cell_type": "code",
      "execution_count": 93,
      "metadata": {
        "id": "shgV5ZT-oLG2"
      },
      "outputs": [],
      "source": [
        "import pandas as pd\n",
        "import numpy as np"
      ]
    },
    {
      "cell_type": "code",
      "execution_count": 94,
      "metadata": {
        "id": "85Rgp6ivyvZq"
      },
      "outputs": [],
      "source": [
        "RANDOM_STATE = 42\n",
        "TRAIN_SIZE = 0.75"
      ]
    },
    {
      "cell_type": "code",
      "execution_count": 95,
      "metadata": {
        "id": "QGpwI1GxyySs"
      },
      "outputs": [],
      "source": [
        "rng = np.random.default_rng(RANDOM_STATE)"
      ]
    },
    {
      "cell_type": "markdown",
      "metadata": {
        "id": "uOk2Swygyxho"
      },
      "source": [
        "## Загрузка данных"
      ]
    },
    {
      "cell_type": "code",
      "execution_count": 96,
      "metadata": {
        "id": "_8RhxtHwwzTG"
      },
      "outputs": [],
      "source": [
        "from sklearn.datasets import load_wine\n",
        "\n",
        "data = load_wine(as_frame=True)\n",
        "\n",
        "X = data.data\n",
        "y = data.target"
      ]
    },
    {
      "cell_type": "markdown",
      "metadata": {
        "id": "KvNTy4_yzOwY"
      },
      "source": [
        "## Задание 1"
      ]
    },
    {
      "cell_type": "markdown",
      "metadata": {
        "id": "PNKeCjtEncob"
      },
      "source": [
        "Посмотрите на количество классов и количество объектов каждого класса в датасете."
      ]
    },
    {
      "cell_type": "markdown",
      "metadata": {
        "id": "1O1xV6KWzW8e"
      },
      "source": [
        "**Вопрос**:  \n",
        "Сколько классов в задаче?"
      ]
    },
    {
      "cell_type": "code",
      "execution_count": 97,
      "metadata": {
        "id": "vnIXJMT9nh78"
      },
      "outputs": [
        {
          "name": "stdout",
          "output_type": "stream",
          "text": [
            "3 класса\n"
          ]
        }
      ],
      "source": [
        "print(f'{sum(y.unique())} класса')"
      ]
    },
    {
      "cell_type": "markdown",
      "metadata": {
        "id": "jk9RqS69z6af"
      },
      "source": [
        "## Задание 2"
      ]
    },
    {
      "cell_type": "markdown",
      "metadata": {
        "id": "S8dnUB81nkG0"
      },
      "source": [
        "Мы имеем дело с многоклассовой классификацией. Кроме того, классы не очень хорошо сбалансированы, поэтому для оценки качества модели метрика *accuracy* не подойдет."
      ]
    },
    {
      "cell_type": "markdown",
      "metadata": {
        "id": "qM6ZTfphyL8W"
      },
      "source": [
        "Разбейте данные на тренировочную и тестовую части:  \n",
        "тестовая часть - 25% от всех данных, зафиксируйте `random_state = RANDOM_STATE`."
      ]
    },
    {
      "cell_type": "code",
      "execution_count": 98,
      "metadata": {
        "id": "f16RkGUaxUh4"
      },
      "outputs": [],
      "source": [
        "from sklearn.model_selection import train_test_split\n",
        "\n",
        "X_train, X_test, y_train, y_test = train_test_split(X, y, random_state=42, test_size=0.25)"
      ]
    },
    {
      "cell_type": "markdown",
      "metadata": {
        "id": "bX6Vv4dryREe"
      },
      "source": [
        "**Вопрос:**\n",
        "\n",
        "Все ли признаки в данных одного масштаба?  \n",
        "Проверьте это, выведя основные числовые характеристики матрицы `X_train` методом `describe` из библиотеки `pandas`.\n",
        "\n",
        "По полученной таблице числовых характеристик определите, какой признак измеряется в сотнях?  \n",
        "(если вариантов несколько, выберите признак с наибольшим средним значением)."
      ]
    },
    {
      "cell_type": "code",
      "execution_count": 99,
      "metadata": {
        "id": "VTOG8ggByUSZ"
      },
      "outputs": [
        {
          "data": {
            "text/plain": [
              "alcohol                          43.273575\n",
              "malic_acid                       46.195962\n",
              "ash                              46.306601\n",
              "alcalinity_of_ash                41.615224\n",
              "magnesium                        43.410023\n",
              "total_phenols                    46.300752\n",
              "flavanoids                       46.304349\n",
              "nonflavanoid_phenols             46.905216\n",
              "proanthocyanins                  46.479410\n",
              "color_intensity                  45.397057\n",
              "hue                              46.708786\n",
              "od280/od315_of_diluted_wines     46.203790\n",
              "proline                         456.995886\n",
              "dtype: float64"
            ]
          },
          "execution_count": 99,
          "metadata": {},
          "output_type": "execute_result"
        }
      ],
      "source": [
        "X_train.describe().std()"
      ]
    },
    {
      "cell_type": "markdown",
      "metadata": {},
      "source": [
        "Ответ: Proline"
      ]
    },
    {
      "cell_type": "markdown",
      "metadata": {
        "id": "6VANARbT0Vu5"
      },
      "source": [
        "## Задание 3"
      ]
    },
    {
      "cell_type": "markdown",
      "metadata": {
        "id": "e1dfCiISo_GH"
      },
      "source": [
        "KNN требует того, чтобы все признаки были одного масштаба, поэтому масштабируйте данные при помощи `StandardScaler`.\n",
        "\n",
        "Напоминаем, что обучать метод нужно только по тренировочным данным, а применять и к трейну, и к тесту.\n",
        "\n",
        "После применения `StandardScaler` преобразуйте `X_train` и `X_test` к типу `pd.DataFrame`, названия новых объектов оставьте `X_train` и `X_test`."
      ]
    },
    {
      "cell_type": "code",
      "execution_count": 100,
      "metadata": {
        "id": "IMWxZOLMpLg_"
      },
      "outputs": [],
      "source": [
        "from sklearn.preprocessing import StandardScaler\n",
        "\n",
        "scaler = StandardScaler()\n",
        "X_train = pd.DataFrame(scaler.fit_transform(X_train), columns=X_train.columns) \n",
        "X_test = pd.DataFrame(scaler.transform(X_test), columns=X_test.columns) "
      ]
    },
    {
      "cell_type": "markdown",
      "metadata": {
        "id": "wfjxuX1hyOpd"
      },
      "source": [
        "Обучите KNN с параметрами по умолчанию на тренировочных данных и сделайте предсказание на тесте."
      ]
    },
    {
      "cell_type": "code",
      "execution_count": 101,
      "metadata": {
        "id": "VeyYEAO2yQhL"
      },
      "outputs": [],
      "source": [
        "from sklearn.neighbors import KNeighborsClassifier\n",
        "\n",
        "knn = KNeighborsClassifier()\n",
        "knn.fit(X_train, y_train)\n",
        "ypred = knn.predict(X_test)"
      ]
    },
    {
      "cell_type": "markdown",
      "metadata": {
        "id": "E18N3QNMrQLw"
      },
      "source": [
        "Будем измерять качество модели по метрике weighted $f1$-score.\n",
        "\n",
        "Чтобы выбрать тип усреднения (micro, macro, weighted) в функции `f1_score` необходимо задать этот тип в гиперпараметре `average`.\n",
        "\n",
        "Вычислите $f1$-score на тестовых данных."
      ]
    },
    {
      "cell_type": "markdown",
      "metadata": {
        "id": "aLaSCeCf0uPd"
      },
      "source": [
        "**Вопрос:**\n",
        "\n",
        "Чему равен $f1$-score на тестовых данных?"
      ]
    },
    {
      "cell_type": "code",
      "execution_count": 102,
      "metadata": {
        "id": "TdhIWbULrnPv"
      },
      "outputs": [
        {
          "name": "stdout",
          "output_type": "stream",
          "text": [
            "micro : 0.956\n",
            "macro : 0.956\n",
            "weighted : 0.955\n"
          ]
        }
      ],
      "source": [
        "from sklearn.metrics import f1_score\n",
        "\n",
        "print(f'micro : {f1_score(y_test, ypred, average=\"micro\").round(3)}')\n",
        "print(f'macro : {f1_score(y_test, ypred, average=\"macro\").round(3)}')\n",
        "print(f'weighted : {f1_score(y_test, ypred, average=\"weighted\").round(3)}')"
      ]
    },
    {
      "cell_type": "markdown",
      "metadata": {
        "id": "kco77ab200s9"
      },
      "source": [
        "## Задание 4"
      ]
    },
    {
      "cell_type": "markdown",
      "metadata": {
        "id": "BONbGWi1yVIQ"
      },
      "source": [
        "Попробуем улучшить модель.\n",
        "\n",
        "Подберите оптимальное количество соседей (`n_neighbors`) из диапазона *от 3 до 30 с шагом 2* и веса соседей (`weights`):  \n",
        "`uniform`, `distance` по кросс-валидации с тремя фолдами на тренировочных данных.\n",
        "\n",
        "Используйте `GridSearchCV` и метрику `f1_weighted`."
      ]
    },
    {
      "cell_type": "code",
      "execution_count": 103,
      "metadata": {
        "id": "6nM_wc6iydB-"
      },
      "outputs": [
        {
          "name": "stdout",
          "output_type": "stream",
          "text": [
            "0.9624902376605162\n",
            "KNeighborsClassifier(n_neighbors=19)\n"
          ]
        }
      ],
      "source": [
        "from sklearn.model_selection import GridSearchCV\n",
        "\n",
        "param = {'n_neighbors' : np.arange(3, 30, 2),\n",
        "         'weights' : ['uniform', 'distance']\n",
        "         }\n",
        "\n",
        "gs = GridSearchCV(KNeighborsClassifier(), param_grid=param, scoring='f1_weighted')\n",
        "gs.fit(X_train, y_train)\n",
        "\n",
        "print(gs.best_score_)\n",
        "print(gs.best_estimator_)"
      ]
    },
    {
      "cell_type": "markdown",
      "metadata": {
        "id": "b6mM-XXps5Af"
      },
      "source": [
        "Возьмите best_estimator_, полученный при обучении GridSearchCV и с помощью него  \n",
        "сделайте предсказание на тесте и вычислите метрику `f1_weighted`."
      ]
    },
    {
      "cell_type": "code",
      "execution_count": 104,
      "metadata": {
        "id": "6Sn00daNtGWd"
      },
      "outputs": [
        {
          "name": "stdout",
          "output_type": "stream",
          "text": [
            "micro : 0.956\n",
            "macro : 0.956\n",
            "weighted : 0.955\n"
          ]
        }
      ],
      "source": [
        "ypred = gs.best_estimator_.predict(X_test)\n",
        "print(f'micro : {f1_score(y_test, ypred, average=\"micro\").round(3)}')\n",
        "print(f'macro : {f1_score(y_test, ypred, average=\"macro\").round(3)}')\n",
        "print(f'weighted : {f1_score(y_test, ypred, average=\"weighted\").round(3)}')"
      ]
    },
    {
      "cell_type": "markdown",
      "metadata": {
        "id": "HzAQzK3JtT7h"
      },
      "source": [
        "**Вопрос:**\n",
        "\n",
        "Удалось ли при помощи подбора гиперпараметров улучшить качество модели на тестовых данных?"
      ]
    },
    {
      "cell_type": "markdown",
      "metadata": {},
      "source": [
        "Ответ: Нет"
      ]
    },
    {
      "cell_type": "markdown",
      "metadata": {
        "id": "iLzHwlkj1cjs"
      },
      "source": [
        "## Задание 5"
      ]
    },
    {
      "cell_type": "markdown",
      "metadata": {
        "id": "tdm2A5SSylYQ"
      },
      "source": [
        "Выведите на экран матрицу ошибок.\n",
        "\n",
        "Используйте модель с подобранными при помощи `GridSearch` гиперпараметрами.\n"
      ]
    },
    {
      "cell_type": "markdown",
      "metadata": {
        "id": "FHgD2EQG1i1V"
      },
      "source": [
        "**Вопрос:**  \n",
        "По этой матрице определите, какие классы между собой путает модель?"
      ]
    },
    {
      "cell_type": "code",
      "execution_count": 105,
      "metadata": {
        "id": "I5u0A5a0yqge"
      },
      "outputs": [
        {
          "data": {
            "text/plain": [
              "array([[15,  0,  0],\n",
              "       [ 1, 16,  1],\n",
              "       [ 0,  0, 12]], dtype=int64)"
            ]
          },
          "execution_count": 105,
          "metadata": {},
          "output_type": "execute_result"
        }
      ],
      "source": [
        "from sklearn.metrics import confusion_matrix\n",
        "\n",
        "confusion_matrix(y_test, ypred)"
      ]
    },
    {
      "cell_type": "markdown",
      "metadata": {
        "id": "9qKKGd2eyq6E"
      },
      "source": [
        "## Бонус (эксперименты с LSH)"
      ]
    },
    {
      "cell_type": "markdown",
      "metadata": {
        "id": "l-_YTZzg1qnq"
      },
      "source": [
        "Скопируйте все функции из [ноутбука в уроке \"Быстрый поиск соседей\"](https://colab.research.google.com/drive/181MMOcTnzdMVzJr0pWzqtEG0-BV9BIHH)."
      ]
    },
    {
      "cell_type": "code",
      "execution_count": 106,
      "metadata": {
        "id": "ia2GsrwKy5co"
      },
      "outputs": [],
      "source": [
        "def knn_search(query, data, k=5):\n",
        "\n",
        "    dists = np.sqrt(np.sum((data - query) ** 2, axis=1))  # вычисляем расстояния от объекта query до всех точек датасета\n",
        "    inds = np.argsort(dists)  # сортируем по возрастанию расстояний\n",
        "    inds_k = inds[:k]         # берем top-k точек с наименьшими расстояниями\n",
        "\n",
        "    return data[inds_k], dists[inds_k], inds_k\n",
        "\n",
        "def generate_hyperplanes(data, bucket_size=16):\n",
        "    m = data.shape[0]            # число объектов\n",
        "    n = data.shape[1]            # число признаков\n",
        "    b = m // bucket_size         # количество корзин\n",
        "    h = int(np.log2(b))          # количество гиперплоскостей\n",
        "    H = rng.normal(size=(h, n))  # гиперплоскости, заданные своими нормалями\n",
        "    return H\n",
        "\n",
        "def hamming_hash(data, hyperplanes):\n",
        "    b = len(hyperplanes)\n",
        "    hash_key = (data @ hyperplanes.T) >= 0\n",
        "\n",
        "    dec_vals = np.array([2 ** i for i in range(b)], dtype=int)\n",
        "    hash_key = hash_key @ dec_vals\n",
        "\n",
        "    return hash_key\n",
        "\n",
        "def locality_sensitive_hash(data, hyperplanes):\n",
        "    hash_vals = hamming_hash(data, hyperplanes)\n",
        "    hash_table = {}\n",
        "    for i, v in enumerate(hash_vals):\n",
        "        if v not in hash_table:\n",
        "            hash_table[v] = set()\n",
        "        hash_table[v].add(i)\n",
        "\n",
        "    return hash_table\n",
        "\n",
        "def approx_knn_search(query, data, k=5, bucket_size=16):\n",
        "    candidates = set()\n",
        "\n",
        "    hyperplanes = generate_hyperplanes(data)\n",
        "    hash_table = locality_sensitive_hash(data, hyperplanes) # формируем хеш-таблицу по датасету\n",
        "\n",
        "    query_hash = hamming_hash(query, hyperplanes)\n",
        "    if query_hash in hash_table:\n",
        "        candidates = candidates.union(hash_table[query_hash])\n",
        "    candidates = np.stack([data[i] for i in candidates], axis=0) # находим кандидатов = объекты, попадающие с query в одну корзину\n",
        "\n",
        "    return knn_search(query, candidates, k=k) # с помощью KNN ищем ближайших соседей только из найденных кандидатов"
      ]
    },
    {
      "cell_type": "markdown",
      "metadata": {
        "id": "nYFSYav3vzVC"
      },
      "source": [
        "При помощи `knn_search` найдите ближайших соседей к вину `X_test.iloc[0]` в **тренировочных** данных.\n",
        "\n",
        "Обратите внимание, что функция `knn_search` принимает на вход `np.array`, а не `pd.DataFrame`. Поэтому переведите аргументы в `np.array`, приписав к необходимому объекту $X$: `X.values`."
      ]
    },
    {
      "cell_type": "code",
      "execution_count": 107,
      "metadata": {
        "id": "NB-UNOgUunot"
      },
      "outputs": [
        {
          "name": "stdout",
          "output_type": "stream",
          "text": [
            "index 46: dist = 1.7873320988662762\n",
            "index 101: dist = 1.9809624052592747\n",
            "index 108: dist = 2.1601016426727613\n",
            "index 6: dist = 2.270974564253457\n",
            "index 127: dist = 2.3117955237515453\n",
            "CPU times: total: 0 ns\n",
            "Wall time: 1.05 ms\n"
          ]
        }
      ],
      "source": [
        "%%time\n",
        "neighbors, dists, inds_k = knn_search(X_test.iloc[0].values, X_train.values)\n",
        "for dist, inds_k in zip(dists, inds_k):\n",
        "    print(f\"index {inds_k}: dist = {dist}\")"
      ]
    },
    {
      "cell_type": "markdown",
      "metadata": {
        "id": "y86BRzABvLHB"
      },
      "source": [
        "Выведите на экран признаки объекта `X_test.iloc[0]` и признаки ближайшего найденного соседа."
      ]
    },
    {
      "cell_type": "code",
      "execution_count": 108,
      "metadata": {
        "id": "Mi18Sp2WvQYE"
      },
      "outputs": [
        {
          "data": {
            "text/plain": [
              "alcohol                         0.806832\n",
              "malic_acid                      0.651425\n",
              "ash                             0.707637\n",
              "alcalinity_of_ash              -1.225688\n",
              "magnesium                       1.019911\n",
              "total_phenols                   0.657478\n",
              "flavanoids                      1.007035\n",
              "nonflavanoid_phenols           -1.530581\n",
              "proanthocyanins                 0.089343\n",
              "color_intensity                 0.037556\n",
              "hue                             0.002381\n",
              "od280/od315_of_diluted_wines    1.031337\n",
              "proline                         0.333672\n",
              "Name: 0, dtype: float64"
            ]
          },
          "execution_count": 108,
          "metadata": {},
          "output_type": "execute_result"
        }
      ],
      "source": [
        "X_test.iloc[0]"
      ]
    },
    {
      "cell_type": "code",
      "execution_count": 109,
      "metadata": {},
      "outputs": [
        {
          "data": {
            "text/plain": [
              "alcohol                         0.701443\n",
              "malic_acid                      0.812959\n",
              "ash                            -0.178859\n",
              "alcalinity_of_ash              -0.578996\n",
              "magnesium                       0.803048\n",
              "total_phenols                   0.466371\n",
              "flavanoids                      0.009983\n",
              "nonflavanoid_phenols            0.237258\n",
              "proanthocyanins                 0.730700\n",
              "color_intensity                 0.000000\n",
              "hue                            -0.299579\n",
              "od280/od315_of_diluted_wines    0.233770\n",
              "proline                        -0.278040\n",
              "dtype: float64"
            ]
          },
          "execution_count": 109,
          "metadata": {},
          "output_type": "execute_result"
        }
      ],
      "source": [
        "X_train.iloc[46]-X_test.iloc[0]"
      ]
    },
    {
      "cell_type": "markdown",
      "metadata": {
        "id": "3aeCTiYnx2_q"
      },
      "source": [
        "**Вопрос:**\n",
        "\n",
        "Можно ли сказать, что в тренировочных данных есть вино, почти такое же как `X_test.iloc[0]`? (все признаки почти одинаковые)\n",
        "\n",
        "Какое расстояние между объектом запроса и первым ближайшим соседом?"
      ]
    },
    {
      "cell_type": "markdown",
      "metadata": {
        "id": "zWEBfyAay53O"
      },
      "source": [
        "Теперь найдите ближайшего соседа при помощи `approx_knn_search`."
      ]
    },
    {
      "cell_type": "code",
      "execution_count": 110,
      "metadata": {
        "id": "ezxEITyiy-1a"
      },
      "outputs": [
        {
          "name": "stdout",
          "output_type": "stream",
          "text": [
            "index 4: dist = 1.787332098866276\n",
            "index 13: dist = 2.3117955237515453\n",
            "index 5: dist = 2.4714256477971346\n",
            "index 14: dist = 2.482865265933602\n",
            "index 2: dist = 2.554033097597557\n",
            "CPU times: total: 0 ns\n",
            "Wall time: 2 ms\n"
          ]
        }
      ],
      "source": [
        "%%time\n",
        "\n",
        "neighbors, dists, inds_k = approx_knn_search(X_test.iloc[0].values, X_train.values, k=5, bucket_size=16)\n",
        "for dist, inds_k in zip(dists, inds_k):\n",
        "    print(f\"index {inds_k}: dist = {dist}\")"
      ]
    },
    {
      "cell_type": "markdown",
      "metadata": {
        "id": "sCPx6pgnwRqX"
      },
      "source": [
        "Ближайший сосед при помощи KNN+LSH может быть найден не точно или не с первого запуска.  \n",
        "Запустите последнюю ячейку несколько раз и убедитесь, что ближайший сосед находится верно за несколько запусков."
      ]
    }
  ],
  "metadata": {
    "colab": {
      "provenance": []
    },
    "kernelspec": {
      "display_name": "Python 3",
      "name": "python3"
    },
    "language_info": {
      "codemirror_mode": {
        "name": "ipython",
        "version": 3
      },
      "file_extension": ".py",
      "mimetype": "text/x-python",
      "name": "python",
      "nbconvert_exporter": "python",
      "pygments_lexer": "ipython3",
      "version": "3.10.9"
    }
  },
  "nbformat": 4,
  "nbformat_minor": 0
}
