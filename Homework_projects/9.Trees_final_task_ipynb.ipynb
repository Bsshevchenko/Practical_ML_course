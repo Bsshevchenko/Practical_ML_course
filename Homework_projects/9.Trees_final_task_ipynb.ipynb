{
  "cells": [
    {
      "cell_type": "markdown",
      "metadata": {
        "id": "96bhRQbYM-vU"
      },
      "source": [
        "# Решающие деревья. Практика"
      ]
    },
    {
      "cell_type": "markdown",
      "metadata": {
        "id": "0-tRk6fdxmB-"
      },
      "source": [
        "В этом задании будем решать задачу классификации клиентов телекома: для каждого клиента необходимо определить, перестанет он пользоваться услугами оператора (оттоковый клиент) в ближайшее время или нет.\n",
        "\n",
        "В ноутбуке будем использовать несколько моделей, в том числе SVM, поэтому установим библиотеку для быстрого обучения SVM."
      ]
    },
    {
      "cell_type": "markdown",
      "metadata": {
        "id": "jgQbkVOINf_e"
      },
      "source": [
        "## Импорт библиотек и загрузка данных"
      ]
    },
    {
      "cell_type": "code",
      "execution_count": 1,
      "metadata": {
        "colab": {
          "base_uri": "https://localhost:8080/"
        },
        "id": "nYTOUd18b4f_",
        "outputId": "33bf8d1b-1b64-4823-d3e7-5612b1c7d058"
      },
      "outputs": [],
      "source": [
        "# убедимся, что версия python < 3.10\n",
        "# !python --version"
      ]
    },
    {
      "cell_type": "code",
      "execution_count": 2,
      "metadata": {
        "id": "FF4NTn-lb54s"
      },
      "outputs": [],
      "source": [
        "# %%capture\n",
        "# !python -m pip install --upgrade pip\n",
        "# !pip install --upgrade scikit-learn-intelex"
      ]
    },
    {
      "cell_type": "code",
      "execution_count": 3,
      "metadata": {
        "colab": {
          "base_uri": "https://localhost:8080/"
        },
        "id": "mz6b0PHqb7Wq",
        "outputId": "9974b44f-14ad-498a-8a4c-fd3f73d19cba"
      },
      "outputs": [
        {
          "name": "stderr",
          "output_type": "stream",
          "text": [
            "Intel(R) Extension for Scikit-learn* enabled (https://github.com/intel/scikit-learn-intelex)\n"
          ]
        }
      ],
      "source": [
        "from sklearnex import patch_sklearn\n",
        "patch_sklearn()"
      ]
    },
    {
      "cell_type": "code",
      "execution_count": 4,
      "metadata": {
        "id": "RJcBsRykTk3b"
      },
      "outputs": [],
      "source": [
        "import sys\n",
        "import os\n",
        "import site\n",
        "import pandas as pd\n",
        "import numpy as np\n",
        "import seaborn as sns\n",
        "import matplotlib.pyplot as plt\n",
        "\n",
        "sys.path.append(os.path.join(os.path.dirname(site.getsitepackages()[0]), \"site-packages\"))"
      ]
    },
    {
      "cell_type": "code",
      "execution_count": 5,
      "metadata": {
        "id": "yZZGDLjyq6oQ"
      },
      "outputs": [],
      "source": [
        "# зафиксируем константы\n",
        "RANDOM_STATE = 42"
      ]
    },
    {
      "cell_type": "code",
      "execution_count": 6,
      "metadata": {
        "colab": {
          "base_uri": "https://localhost:8080/",
          "height": 285
        },
        "id": "DIjF1xlpwOMd",
        "outputId": "d597b5af-e5bc-468a-f97e-51bbc4f1dd00"
      },
      "outputs": [
        {
          "data": {
            "text/html": [
              "<div>\n",
              "<style scoped>\n",
              "    .dataframe tbody tr th:only-of-type {\n",
              "        vertical-align: middle;\n",
              "    }\n",
              "\n",
              "    .dataframe tbody tr th {\n",
              "        vertical-align: top;\n",
              "    }\n",
              "\n",
              "    .dataframe thead th {\n",
              "        text-align: right;\n",
              "    }\n",
              "</style>\n",
              "<table border=\"1\" class=\"dataframe\">\n",
              "  <thead>\n",
              "    <tr style=\"text-align: right;\">\n",
              "      <th></th>\n",
              "      <th>State</th>\n",
              "      <th>Account length</th>\n",
              "      <th>Area code</th>\n",
              "      <th>International plan</th>\n",
              "      <th>Voice mail plan</th>\n",
              "      <th>Number vmail messages</th>\n",
              "      <th>Total day minutes</th>\n",
              "      <th>Total day calls</th>\n",
              "      <th>Total day charge</th>\n",
              "      <th>Total eve minutes</th>\n",
              "      <th>Total eve calls</th>\n",
              "      <th>Total eve charge</th>\n",
              "      <th>Total night minutes</th>\n",
              "      <th>Total night calls</th>\n",
              "      <th>Total night charge</th>\n",
              "      <th>Total intl minutes</th>\n",
              "      <th>Total intl calls</th>\n",
              "      <th>Total intl charge</th>\n",
              "      <th>Customer service calls</th>\n",
              "      <th>Churn</th>\n",
              "    </tr>\n",
              "  </thead>\n",
              "  <tbody>\n",
              "    <tr>\n",
              "      <th>0</th>\n",
              "      <td>KS</td>\n",
              "      <td>128</td>\n",
              "      <td>415</td>\n",
              "      <td>No</td>\n",
              "      <td>Yes</td>\n",
              "      <td>25</td>\n",
              "      <td>265.1</td>\n",
              "      <td>110</td>\n",
              "      <td>45.07</td>\n",
              "      <td>197.4</td>\n",
              "      <td>99</td>\n",
              "      <td>16.78</td>\n",
              "      <td>244.7</td>\n",
              "      <td>91</td>\n",
              "      <td>11.01</td>\n",
              "      <td>10.0</td>\n",
              "      <td>3</td>\n",
              "      <td>2.70</td>\n",
              "      <td>1</td>\n",
              "      <td>False</td>\n",
              "    </tr>\n",
              "    <tr>\n",
              "      <th>1</th>\n",
              "      <td>OH</td>\n",
              "      <td>107</td>\n",
              "      <td>415</td>\n",
              "      <td>No</td>\n",
              "      <td>Yes</td>\n",
              "      <td>26</td>\n",
              "      <td>161.6</td>\n",
              "      <td>123</td>\n",
              "      <td>27.47</td>\n",
              "      <td>195.5</td>\n",
              "      <td>103</td>\n",
              "      <td>16.62</td>\n",
              "      <td>254.4</td>\n",
              "      <td>103</td>\n",
              "      <td>11.45</td>\n",
              "      <td>13.7</td>\n",
              "      <td>3</td>\n",
              "      <td>3.70</td>\n",
              "      <td>1</td>\n",
              "      <td>False</td>\n",
              "    </tr>\n",
              "    <tr>\n",
              "      <th>2</th>\n",
              "      <td>NJ</td>\n",
              "      <td>137</td>\n",
              "      <td>415</td>\n",
              "      <td>No</td>\n",
              "      <td>No</td>\n",
              "      <td>0</td>\n",
              "      <td>243.4</td>\n",
              "      <td>114</td>\n",
              "      <td>41.38</td>\n",
              "      <td>121.2</td>\n",
              "      <td>110</td>\n",
              "      <td>10.30</td>\n",
              "      <td>162.6</td>\n",
              "      <td>104</td>\n",
              "      <td>7.32</td>\n",
              "      <td>12.2</td>\n",
              "      <td>5</td>\n",
              "      <td>3.29</td>\n",
              "      <td>0</td>\n",
              "      <td>False</td>\n",
              "    </tr>\n",
              "    <tr>\n",
              "      <th>3</th>\n",
              "      <td>OH</td>\n",
              "      <td>84</td>\n",
              "      <td>408</td>\n",
              "      <td>Yes</td>\n",
              "      <td>No</td>\n",
              "      <td>0</td>\n",
              "      <td>299.4</td>\n",
              "      <td>71</td>\n",
              "      <td>50.90</td>\n",
              "      <td>61.9</td>\n",
              "      <td>88</td>\n",
              "      <td>5.26</td>\n",
              "      <td>196.9</td>\n",
              "      <td>89</td>\n",
              "      <td>8.86</td>\n",
              "      <td>6.6</td>\n",
              "      <td>7</td>\n",
              "      <td>1.78</td>\n",
              "      <td>2</td>\n",
              "      <td>False</td>\n",
              "    </tr>\n",
              "    <tr>\n",
              "      <th>4</th>\n",
              "      <td>OK</td>\n",
              "      <td>75</td>\n",
              "      <td>415</td>\n",
              "      <td>Yes</td>\n",
              "      <td>No</td>\n",
              "      <td>0</td>\n",
              "      <td>166.7</td>\n",
              "      <td>113</td>\n",
              "      <td>28.34</td>\n",
              "      <td>148.3</td>\n",
              "      <td>122</td>\n",
              "      <td>12.61</td>\n",
              "      <td>186.9</td>\n",
              "      <td>121</td>\n",
              "      <td>8.41</td>\n",
              "      <td>10.1</td>\n",
              "      <td>3</td>\n",
              "      <td>2.73</td>\n",
              "      <td>3</td>\n",
              "      <td>False</td>\n",
              "    </tr>\n",
              "  </tbody>\n",
              "</table>\n",
              "</div>"
            ],
            "text/plain": [
              "  State  Account length  Area code International plan Voice mail plan  \\\n",
              "0    KS             128        415                 No             Yes   \n",
              "1    OH             107        415                 No             Yes   \n",
              "2    NJ             137        415                 No              No   \n",
              "3    OH              84        408                Yes              No   \n",
              "4    OK              75        415                Yes              No   \n",
              "\n",
              "   Number vmail messages  Total day minutes  Total day calls  \\\n",
              "0                     25              265.1              110   \n",
              "1                     26              161.6              123   \n",
              "2                      0              243.4              114   \n",
              "3                      0              299.4               71   \n",
              "4                      0              166.7              113   \n",
              "\n",
              "   Total day charge  Total eve minutes  Total eve calls  Total eve charge  \\\n",
              "0             45.07              197.4               99             16.78   \n",
              "1             27.47              195.5              103             16.62   \n",
              "2             41.38              121.2              110             10.30   \n",
              "3             50.90               61.9               88              5.26   \n",
              "4             28.34              148.3              122             12.61   \n",
              "\n",
              "   Total night minutes  Total night calls  Total night charge  \\\n",
              "0                244.7                 91               11.01   \n",
              "1                254.4                103               11.45   \n",
              "2                162.6                104                7.32   \n",
              "3                196.9                 89                8.86   \n",
              "4                186.9                121                8.41   \n",
              "\n",
              "   Total intl minutes  Total intl calls  Total intl charge  \\\n",
              "0                10.0                 3               2.70   \n",
              "1                13.7                 3               3.70   \n",
              "2                12.2                 5               3.29   \n",
              "3                 6.6                 7               1.78   \n",
              "4                10.1                 3               2.73   \n",
              "\n",
              "   Customer service calls  Churn  \n",
              "0                       1  False  \n",
              "1                       1  False  \n",
              "2                       0  False  \n",
              "3                       2  False  \n",
              "4                       3  False  "
            ]
          },
          "execution_count": 6,
          "metadata": {},
          "output_type": "execute_result"
        }
      ],
      "source": [
        "df = pd.read_csv(\"https://raw.githubusercontent.com/evgpat/edu_stepik_practical_ml/main/datasets/telecom_churn.csv\")\n",
        "df.head()"
      ]
    },
    {
      "cell_type": "markdown",
      "metadata": {
        "id": "Od9PZQCENJ4I"
      },
      "source": [
        "## Практика"
      ]
    },
    {
      "cell_type": "code",
      "execution_count": 7,
      "metadata": {
        "id": "Jz_uDKBvrM4P"
      },
      "outputs": [],
      "source": [
        "np.random.seed(RANDOM_STATE)"
      ]
    },
    {
      "cell_type": "markdown",
      "metadata": {
        "id": "MT5L6lWZyDkE"
      },
      "source": [
        "Сделайте первичную обработку данных:\n",
        "\n",
        "1) Выбросите колонку State\n",
        "\n",
        "2) Колонки International plan и Voice mail plan закодируйте следующим образом: \"Yes\" замените на 1, а \"No\" на 0.\n",
        "\n",
        "3) Переведите целевую переменную (Churn) в числа: True в 1, а False в 0."
      ]
    },
    {
      "cell_type": "code",
      "execution_count": 8,
      "metadata": {
        "id": "7U6J16EVx0iy"
      },
      "outputs": [],
      "source": [
        "df = df.drop(['State'], axis=1)"
      ]
    },
    {
      "cell_type": "code",
      "execution_count": 9,
      "metadata": {},
      "outputs": [],
      "source": [
        "for i in ['International plan', 'Voice mail plan']:\n",
        "    df[i] = df[i].map({'Yes':1, 'No': 0})"
      ]
    },
    {
      "cell_type": "code",
      "execution_count": 10,
      "metadata": {},
      "outputs": [],
      "source": [
        "df['Churn'] = df['Churn'].map({True : 1, False : 0})"
      ]
    },
    {
      "cell_type": "code",
      "execution_count": 11,
      "metadata": {},
      "outputs": [
        {
          "data": {
            "text/plain": [
              "(array([0, 1], dtype=int64),\n",
              " array([1, 0], dtype=int64),\n",
              " array([0, 1], dtype=int64))"
            ]
          },
          "execution_count": 11,
          "metadata": {},
          "output_type": "execute_result"
        }
      ],
      "source": [
        "#Проверяем что кодировка прошла корректно\n",
        "df['International plan'].unique(), df['Voice mail plan'].unique(), df['Churn'].unique()"
      ]
    },
    {
      "cell_type": "markdown",
      "metadata": {
        "id": "Oh-R73plYGUB"
      },
      "source": [
        "### Вопрос\n",
        "\n",
        "Чему равна сумма значений в закодированном столбце International plan?"
      ]
    },
    {
      "cell_type": "code",
      "execution_count": 12,
      "metadata": {
        "id": "yBFrRvp6YOWk"
      },
      "outputs": [
        {
          "data": {
            "text/plain": [
              "323"
            ]
          },
          "execution_count": 12,
          "metadata": {},
          "output_type": "execute_result"
        }
      ],
      "source": [
        "df['International plan'].sum()"
      ]
    },
    {
      "cell_type": "markdown",
      "metadata": {
        "id": "N2hAu7tmy0Ps"
      },
      "source": [
        "Выведите на экран первые строки измененной таблицы, чтобы проверить, что все преобразования сработали."
      ]
    },
    {
      "cell_type": "code",
      "execution_count": 13,
      "metadata": {
        "id": "lG9oOv0uydW8"
      },
      "outputs": [
        {
          "data": {
            "text/html": [
              "<div>\n",
              "<style scoped>\n",
              "    .dataframe tbody tr th:only-of-type {\n",
              "        vertical-align: middle;\n",
              "    }\n",
              "\n",
              "    .dataframe tbody tr th {\n",
              "        vertical-align: top;\n",
              "    }\n",
              "\n",
              "    .dataframe thead th {\n",
              "        text-align: right;\n",
              "    }\n",
              "</style>\n",
              "<table border=\"1\" class=\"dataframe\">\n",
              "  <thead>\n",
              "    <tr style=\"text-align: right;\">\n",
              "      <th></th>\n",
              "      <th>Account length</th>\n",
              "      <th>Area code</th>\n",
              "      <th>International plan</th>\n",
              "      <th>Voice mail plan</th>\n",
              "      <th>Number vmail messages</th>\n",
              "      <th>Total day minutes</th>\n",
              "      <th>Total day calls</th>\n",
              "      <th>Total day charge</th>\n",
              "      <th>Total eve minutes</th>\n",
              "      <th>Total eve calls</th>\n",
              "      <th>Total eve charge</th>\n",
              "      <th>Total night minutes</th>\n",
              "      <th>Total night calls</th>\n",
              "      <th>Total night charge</th>\n",
              "      <th>Total intl minutes</th>\n",
              "      <th>Total intl calls</th>\n",
              "      <th>Total intl charge</th>\n",
              "      <th>Customer service calls</th>\n",
              "      <th>Churn</th>\n",
              "    </tr>\n",
              "  </thead>\n",
              "  <tbody>\n",
              "    <tr>\n",
              "      <th>0</th>\n",
              "      <td>128</td>\n",
              "      <td>415</td>\n",
              "      <td>0</td>\n",
              "      <td>1</td>\n",
              "      <td>25</td>\n",
              "      <td>265.1</td>\n",
              "      <td>110</td>\n",
              "      <td>45.07</td>\n",
              "      <td>197.4</td>\n",
              "      <td>99</td>\n",
              "      <td>16.78</td>\n",
              "      <td>244.7</td>\n",
              "      <td>91</td>\n",
              "      <td>11.01</td>\n",
              "      <td>10.0</td>\n",
              "      <td>3</td>\n",
              "      <td>2.70</td>\n",
              "      <td>1</td>\n",
              "      <td>0</td>\n",
              "    </tr>\n",
              "    <tr>\n",
              "      <th>1</th>\n",
              "      <td>107</td>\n",
              "      <td>415</td>\n",
              "      <td>0</td>\n",
              "      <td>1</td>\n",
              "      <td>26</td>\n",
              "      <td>161.6</td>\n",
              "      <td>123</td>\n",
              "      <td>27.47</td>\n",
              "      <td>195.5</td>\n",
              "      <td>103</td>\n",
              "      <td>16.62</td>\n",
              "      <td>254.4</td>\n",
              "      <td>103</td>\n",
              "      <td>11.45</td>\n",
              "      <td>13.7</td>\n",
              "      <td>3</td>\n",
              "      <td>3.70</td>\n",
              "      <td>1</td>\n",
              "      <td>0</td>\n",
              "    </tr>\n",
              "    <tr>\n",
              "      <th>2</th>\n",
              "      <td>137</td>\n",
              "      <td>415</td>\n",
              "      <td>0</td>\n",
              "      <td>0</td>\n",
              "      <td>0</td>\n",
              "      <td>243.4</td>\n",
              "      <td>114</td>\n",
              "      <td>41.38</td>\n",
              "      <td>121.2</td>\n",
              "      <td>110</td>\n",
              "      <td>10.30</td>\n",
              "      <td>162.6</td>\n",
              "      <td>104</td>\n",
              "      <td>7.32</td>\n",
              "      <td>12.2</td>\n",
              "      <td>5</td>\n",
              "      <td>3.29</td>\n",
              "      <td>0</td>\n",
              "      <td>0</td>\n",
              "    </tr>\n",
              "    <tr>\n",
              "      <th>3</th>\n",
              "      <td>84</td>\n",
              "      <td>408</td>\n",
              "      <td>1</td>\n",
              "      <td>0</td>\n",
              "      <td>0</td>\n",
              "      <td>299.4</td>\n",
              "      <td>71</td>\n",
              "      <td>50.90</td>\n",
              "      <td>61.9</td>\n",
              "      <td>88</td>\n",
              "      <td>5.26</td>\n",
              "      <td>196.9</td>\n",
              "      <td>89</td>\n",
              "      <td>8.86</td>\n",
              "      <td>6.6</td>\n",
              "      <td>7</td>\n",
              "      <td>1.78</td>\n",
              "      <td>2</td>\n",
              "      <td>0</td>\n",
              "    </tr>\n",
              "    <tr>\n",
              "      <th>4</th>\n",
              "      <td>75</td>\n",
              "      <td>415</td>\n",
              "      <td>1</td>\n",
              "      <td>0</td>\n",
              "      <td>0</td>\n",
              "      <td>166.7</td>\n",
              "      <td>113</td>\n",
              "      <td>28.34</td>\n",
              "      <td>148.3</td>\n",
              "      <td>122</td>\n",
              "      <td>12.61</td>\n",
              "      <td>186.9</td>\n",
              "      <td>121</td>\n",
              "      <td>8.41</td>\n",
              "      <td>10.1</td>\n",
              "      <td>3</td>\n",
              "      <td>2.73</td>\n",
              "      <td>3</td>\n",
              "      <td>0</td>\n",
              "    </tr>\n",
              "  </tbody>\n",
              "</table>\n",
              "</div>"
            ],
            "text/plain": [
              "   Account length  Area code  International plan  Voice mail plan  \\\n",
              "0             128        415                   0                1   \n",
              "1             107        415                   0                1   \n",
              "2             137        415                   0                0   \n",
              "3              84        408                   1                0   \n",
              "4              75        415                   1                0   \n",
              "\n",
              "   Number vmail messages  Total day minutes  Total day calls  \\\n",
              "0                     25              265.1              110   \n",
              "1                     26              161.6              123   \n",
              "2                      0              243.4              114   \n",
              "3                      0              299.4               71   \n",
              "4                      0              166.7              113   \n",
              "\n",
              "   Total day charge  Total eve minutes  Total eve calls  Total eve charge  \\\n",
              "0             45.07              197.4               99             16.78   \n",
              "1             27.47              195.5              103             16.62   \n",
              "2             41.38              121.2              110             10.30   \n",
              "3             50.90               61.9               88              5.26   \n",
              "4             28.34              148.3              122             12.61   \n",
              "\n",
              "   Total night minutes  Total night calls  Total night charge  \\\n",
              "0                244.7                 91               11.01   \n",
              "1                254.4                103               11.45   \n",
              "2                162.6                104                7.32   \n",
              "3                196.9                 89                8.86   \n",
              "4                186.9                121                8.41   \n",
              "\n",
              "   Total intl minutes  Total intl calls  Total intl charge  \\\n",
              "0                10.0                 3               2.70   \n",
              "1                13.7                 3               3.70   \n",
              "2                12.2                 5               3.29   \n",
              "3                 6.6                 7               1.78   \n",
              "4                10.1                 3               2.73   \n",
              "\n",
              "   Customer service calls  Churn  \n",
              "0                       1      0  \n",
              "1                       1      0  \n",
              "2                       0      0  \n",
              "3                       2      0  \n",
              "4                       3      0  "
            ]
          },
          "execution_count": 13,
          "metadata": {},
          "output_type": "execute_result"
        }
      ],
      "source": [
        "df.head()"
      ]
    },
    {
      "cell_type": "markdown",
      "metadata": {
        "id": "6_y9azfEzBYd"
      },
      "source": [
        "Создайте матрицу объект-признак X и вектор с целевой переменной (Churn) y."
      ]
    },
    {
      "cell_type": "code",
      "execution_count": 14,
      "metadata": {
        "id": "Nd0nCW4eypLE"
      },
      "outputs": [],
      "source": [
        "X = df.drop('Churn', axis =1)\n",
        "y = df['Churn']"
      ]
    },
    {
      "cell_type": "markdown",
      "metadata": {
        "id": "NEvkoGWw1hFL"
      },
      "source": [
        "### Вопрос\n",
        "\n",
        "Проверьте баланс классов. Является ли выборка сбалансированной?"
      ]
    },
    {
      "cell_type": "code",
      "execution_count": 15,
      "metadata": {
        "id": "RpPcEOAm1keZ"
      },
      "outputs": [
        {
          "name": "stdout",
          "output_type": "stream",
          "text": [
            "0    2850\n",
            "1     483\n",
            "Name: Churn, dtype: int64\n"
          ]
        },
        {
          "data": {
            "image/png": "[encoded data removed]",
            "text/plain": [
              "<Figure size 640x480 with 1 Axes>"
            ]
          },
          "metadata": {},
          "output_type": "display_data"
        }
      ],
      "source": [
        "print(y.value_counts())\n",
        "sns.histplot(y)\n",
        "plt.show()"
      ]
    },
    {
      "cell_type": "markdown",
      "metadata": {},
      "source": [
        "**Ответ:** Выборка не сбалансирована."
      ]
    },
    {
      "cell_type": "markdown",
      "metadata": {
        "id": "253CDINX1TmR"
      },
      "source": [
        "По кросс-валидации с тремя фолдами и метрикой ROC-AUC (scoring='roc_auc') обучите:\n",
        "\n",
        "1) Логистическую регрессию\n",
        "\n",
        "2) Метод опорных векторов (с kernel='linear')\n",
        "\n",
        "Выведите на экран среднее качество моделей на кросс-валидации.\n",
        "\n",
        "При объявлении SVC не забудьте указать в гиперпараметрах probability = True (так как метод изначально не предсказывает вероятности классов, а они нам нужны для вычисления ROC-AUC)."
      ]
    },
    {
      "cell_type": "code",
      "execution_count": 16,
      "metadata": {
        "id": "GsQW48lf1SxJ"
      },
      "outputs": [],
      "source": [
        "from sklearn.linear_model import LogisticRegression\n",
        "from sklearn.svm import SVC\n",
        "from sklearn.model_selection import cross_val_score"
      ]
    },
    {
      "cell_type": "code",
      "execution_count": 17,
      "metadata": {},
      "outputs": [],
      "source": [
        "cross_val_score(SVC(kernel='linear', probability=True), X, y, cv=3, scoring='roc_auc', verbose=0).mean()"
      ]
    },
    {
      "cell_type": "code",
      "execution_count": 18,
      "metadata": {},
      "outputs": [
        {
          "name": "stderr",
          "output_type": "stream",
          "text": [
            "c:\\ProgramData\\anaconda3\\lib\\site-packages\\daal4py\\sklearn\\linear_model\\logistic_path.py:574: ConvergenceWarning: lbfgs failed to converge (status=1):\n",
            "STOP: TOTAL NO. of ITERATIONS REACHED LIMIT.\n",
            "\n",
            "Increase the number of iterations (max_iter) or scale the data as shown in:\n",
            "    https://scikit-learn.org/stable/modules/preprocessing.html\n",
            "Please also refer to the documentation for alternative solver options:\n",
            "    https://scikit-learn.org/stable/modules/linear_model.html#logistic-regression\n",
            "  n_iter_i = _check_optimize_result(\n",
            "c:\\ProgramData\\anaconda3\\lib\\site-packages\\daal4py\\sklearn\\linear_model\\logistic_path.py:574: ConvergenceWarning: lbfgs failed to converge (status=1):\n",
            "STOP: TOTAL NO. of ITERATIONS REACHED LIMIT.\n",
            "\n",
            "Increase the number of iterations (max_iter) or scale the data as shown in:\n",
            "    https://scikit-learn.org/stable/modules/preprocessing.html\n",
            "Please also refer to the documentation for alternative solver options:\n",
            "    https://scikit-learn.org/stable/modules/linear_model.html#logistic-regression\n",
            "  n_iter_i = _check_optimize_result(\n",
            "c:\\ProgramData\\anaconda3\\lib\\site-packages\\daal4py\\sklearn\\linear_model\\logistic_path.py:574: ConvergenceWarning: lbfgs failed to converge (status=1):\n",
            "STOP: TOTAL NO. of ITERATIONS REACHED LIMIT.\n",
            "\n",
            "Increase the number of iterations (max_iter) or scale the data as shown in:\n",
            "    https://scikit-learn.org/stable/modules/preprocessing.html\n",
            "Please also refer to the documentation for alternative solver options:\n",
            "    https://scikit-learn.org/stable/modules/linear_model.html#logistic-regression\n",
            "  n_iter_i = _check_optimize_result(\n"
          ]
        },
        {
          "data": {
            "text/plain": [
              "0.7331175765500708"
            ]
          },
          "execution_count": 18,
          "metadata": {},
          "output_type": "execute_result"
        }
      ],
      "source": [
        "cross_val_score(LogisticRegression(), X, y, cv=3, scoring='roc_auc', verbose=0).mean()"
      ]
    },
    {
      "cell_type": "markdown",
      "metadata": {
        "id": "mVgXsdO02iVG"
      },
      "source": [
        "Теперь обучите решающее дерево с параметрами по умолчанию по кросс-валидации с тремя фолдами и той же метрикой.\n",
        "\n",
        "ВАЖНО! У решающего дерева для воспроизводимости результатов фиксируйте random_state = RANDOM_STATE"
      ]
    },
    {
      "cell_type": "code",
      "execution_count": 19,
      "metadata": {
        "id": "yc822SQa2Zsc"
      },
      "outputs": [
        {
          "data": {
            "text/plain": [
              "0.830441320693037"
            ]
          },
          "execution_count": 19,
          "metadata": {},
          "output_type": "execute_result"
        }
      ],
      "source": [
        "from sklearn.tree import DecisionTreeClassifier\n",
        "\n",
        "cross_val_score(DecisionTreeClassifier(), X, y, cv=3, scoring='roc_auc', verbose=0).mean()"
      ]
    },
    {
      "cell_type": "markdown",
      "metadata": {
        "id": "3cZipDFTYXs-"
      },
      "source": [
        "### Вопрос\n",
        "\n",
        "Какой из трех алгоритмов показал наилучшее качество на кросс-валидации?"
      ]
    },
    {
      "cell_type": "markdown",
      "metadata": {
        "id": "Bof-nFO-3pp7"
      },
      "source": [
        "Ваша цель - максимально улучшить модели. Для этого:\n",
        "\n",
        "1) у линейных моделей подберите гиперпараметр С (переберите 20 значений C в диапазоне от 0.1 до 10 с равным шагом).\n",
        "\n",
        "2) у решающего дерева подберите max_depth (переберите глубину от 1 до 10 с шагом 1) и criterion - \"gini\" или \"entropy\".\n",
        "\n",
        "Для подбора параметров используйте GridSearchCV с тремя фолдами и метрикой roc-auc или обычные циклы.\n",
        "\n",
        "Подбор параметров осуществляется только по тренировочным данным!"
      ]
    },
    {
      "cell_type": "markdown",
      "metadata": {
        "id": "XQTz9L4IQJe0"
      },
      "source": [
        "При подборе гиперпараметров по кросс-валидации для дальнейшей корректной оценки качества модели нужна отдельная выборка. Давайте сразу действовать правильно:\n",
        "\n",
        "1) сначала разбиваем (как и раньше) данные на тренировочную и тестовую части\n",
        "![image.png](data:image/png;base64,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)"
      ]
    },
    {
      "cell_type": "markdown",
      "metadata": {
        "id": "YkKgj_xdQcm9"
      },
      "source": [
        "2) затем по тренировочной части при помощи GridSearchCV подбираем оптимальные значения гиперпараметров\n",
        "\n",
        "3) наконец, делаем предсказание модели с оптимальными гиперпараметрами на тестовых данных и уже по ним оцениваем итоговую метрику.\n",
        "\n",
        "Сложно, зато правильно!"
      ]
    },
    {
      "cell_type": "markdown",
      "metadata": {
        "id": "fOpaM-hq44uW"
      },
      "source": [
        "Первую модель обучим для примера. Дальше вы сами."
      ]
    },
    {
      "cell_type": "code",
      "execution_count": 20,
      "metadata": {
        "id": "iQaQGXpmQ1dI"
      },
      "outputs": [],
      "source": [
        "from sklearn.model_selection import train_test_split\n",
        "\n",
        "Xtrain, Xtest, ytrain, ytest = train_test_split(X, y, test_size=0.3, random_state=RANDOM_STATE)"
      ]
    },
    {
      "cell_type": "code",
      "execution_count": 21,
      "metadata": {
        "id": "hk9rxc993bRu"
      },
      "outputs": [
        {
          "name": "stderr",
          "output_type": "stream",
          "text": [
            "c:\\ProgramData\\anaconda3\\lib\\site-packages\\daal4py\\sklearn\\linear_model\\logistic_path.py:574: ConvergenceWarning: lbfgs failed to converge (status=1):\n",
            "STOP: TOTAL NO. of ITERATIONS REACHED LIMIT.\n",
            "\n",
            "Increase the number of iterations (max_iter) or scale the data as shown in:\n",
            "    https://scikit-learn.org/stable/modules/preprocessing.html\n",
            "Please also refer to the documentation for alternative solver options:\n",
            "    https://scikit-learn.org/stable/modules/linear_model.html#logistic-regression\n",
            "  n_iter_i = _check_optimize_result(\n",
            "c:\\ProgramData\\anaconda3\\lib\\site-packages\\daal4py\\sklearn\\linear_model\\logistic_path.py:574: ConvergenceWarning: lbfgs failed to converge (status=1):\n",
            "STOP: TOTAL NO. of ITERATIONS REACHED LIMIT.\n",
            "\n",
            "Increase the number of iterations (max_iter) or scale the data as shown in:\n",
            "    https://scikit-learn.org/stable/modules/preprocessing.html\n",
            "Please also refer to the documentation for alternative solver options:\n",
            "    https://scikit-learn.org/stable/modules/linear_model.html#logistic-regression\n",
            "  n_iter_i = _check_optimize_result(\n",
            "c:\\ProgramData\\anaconda3\\lib\\site-packages\\daal4py\\sklearn\\linear_model\\logistic_path.py:574: ConvergenceWarning: lbfgs failed to converge (status=1):\n",
            "STOP: TOTAL NO. of ITERATIONS REACHED LIMIT.\n",
            "\n",
            "Increase the number of iterations (max_iter) or scale the data as shown in:\n",
            "    https://scikit-learn.org/stable/modules/preprocessing.html\n",
            "Please also refer to the documentation for alternative solver options:\n",
            "    https://scikit-learn.org/stable/modules/linear_model.html#logistic-regression\n",
            "  n_iter_i = _check_optimize_result(\n",
            "c:\\ProgramData\\anaconda3\\lib\\site-packages\\daal4py\\sklearn\\linear_model\\logistic_path.py:574: ConvergenceWarning: lbfgs failed to converge (status=1):\n",
            "STOP: TOTAL NO. of ITERATIONS REACHED LIMIT.\n",
            "\n",
            "Increase the number of iterations (max_iter) or scale the data as shown in:\n",
            "    https://scikit-learn.org/stable/modules/preprocessing.html\n",
            "Please also refer to the documentation for alternative solver options:\n",
            "    https://scikit-learn.org/stable/modules/linear_model.html#logistic-regression\n",
            "  n_iter_i = _check_optimize_result(\n",
            "c:\\ProgramData\\anaconda3\\lib\\site-packages\\daal4py\\sklearn\\linear_model\\logistic_path.py:574: ConvergenceWarning: lbfgs failed to converge (status=1):\n",
            "STOP: TOTAL NO. of ITERATIONS REACHED LIMIT.\n",
            "\n",
            "Increase the number of iterations (max_iter) or scale the data as shown in:\n",
            "    https://scikit-learn.org/stable/modules/preprocessing.html\n",
            "Please also refer to the documentation for alternative solver options:\n",
            "    https://scikit-learn.org/stable/modules/linear_model.html#logistic-regression\n",
            "  n_iter_i = _check_optimize_result(\n",
            "c:\\ProgramData\\anaconda3\\lib\\site-packages\\daal4py\\sklearn\\linear_model\\logistic_path.py:574: ConvergenceWarning: lbfgs failed to converge (status=1):\n",
            "STOP: TOTAL NO. of ITERATIONS REACHED LIMIT.\n",
            "\n",
            "Increase the number of iterations (max_iter) or scale the data as shown in:\n",
            "    https://scikit-learn.org/stable/modules/preprocessing.html\n",
            "Please also refer to the documentation for alternative solver options:\n",
            "    https://scikit-learn.org/stable/modules/linear_model.html#logistic-regression\n",
            "  n_iter_i = _check_optimize_result(\n",
            "c:\\ProgramData\\anaconda3\\lib\\site-packages\\daal4py\\sklearn\\linear_model\\logistic_path.py:574: ConvergenceWarning: lbfgs failed to converge (status=1):\n",
            "STOP: TOTAL NO. of ITERATIONS REACHED LIMIT.\n",
            "\n",
            "Increase the number of iterations (max_iter) or scale the data as shown in:\n",
            "    https://scikit-learn.org/stable/modules/preprocessing.html\n",
            "Please also refer to the documentation for alternative solver options:\n",
            "    https://scikit-learn.org/stable/modules/linear_model.html#logistic-regression\n",
            "  n_iter_i = _check_optimize_result(\n",
            "c:\\ProgramData\\anaconda3\\lib\\site-packages\\daal4py\\sklearn\\linear_model\\logistic_path.py:574: ConvergenceWarning: lbfgs failed to converge (status=1):\n",
            "STOP: TOTAL NO. of ITERATIONS REACHED LIMIT.\n",
            "\n",
            "Increase the number of iterations (max_iter) or scale the data as shown in:\n",
            "    https://scikit-learn.org/stable/modules/preprocessing.html\n",
            "Please also refer to the documentation for alternative solver options:\n",
            "    https://scikit-learn.org/stable/modules/linear_model.html#logistic-regression\n",
            "  n_iter_i = _check_optimize_result(\n",
            "c:\\ProgramData\\anaconda3\\lib\\site-packages\\daal4py\\sklearn\\linear_model\\logistic_path.py:574: ConvergenceWarning: lbfgs failed to converge (status=1):\n",
            "STOP: TOTAL NO. of ITERATIONS REACHED LIMIT.\n",
            "\n",
            "Increase the number of iterations (max_iter) or scale the data as shown in:\n",
            "    https://scikit-learn.org/stable/modules/preprocessing.html\n",
            "Please also refer to the documentation for alternative solver options:\n",
            "    https://scikit-learn.org/stable/modules/linear_model.html#logistic-regression\n",
            "  n_iter_i = _check_optimize_result(\n",
            "c:\\ProgramData\\anaconda3\\lib\\site-packages\\daal4py\\sklearn\\linear_model\\logistic_path.py:574: ConvergenceWarning: lbfgs failed to converge (status=1):\n",
            "STOP: TOTAL NO. of ITERATIONS REACHED LIMIT.\n",
            "\n",
            "Increase the number of iterations (max_iter) or scale the data as shown in:\n",
            "    https://scikit-learn.org/stable/modules/preprocessing.html\n",
            "Please also refer to the documentation for alternative solver options:\n",
            "    https://scikit-learn.org/stable/modules/linear_model.html#logistic-regression\n",
            "  n_iter_i = _check_optimize_result(\n",
            "c:\\ProgramData\\anaconda3\\lib\\site-packages\\daal4py\\sklearn\\linear_model\\logistic_path.py:574: ConvergenceWarning: lbfgs failed to converge (status=1):\n",
            "STOP: TOTAL NO. of ITERATIONS REACHED LIMIT.\n",
            "\n",
            "Increase the number of iterations (max_iter) or scale the data as shown in:\n",
            "    https://scikit-learn.org/stable/modules/preprocessing.html\n",
            "Please also refer to the documentation for alternative solver options:\n",
            "    https://scikit-learn.org/stable/modules/linear_model.html#logistic-regression\n",
            "  n_iter_i = _check_optimize_result(\n",
            "c:\\ProgramData\\anaconda3\\lib\\site-packages\\daal4py\\sklearn\\linear_model\\logistic_path.py:574: ConvergenceWarning: lbfgs failed to converge (status=1):\n",
            "STOP: TOTAL NO. of ITERATIONS REACHED LIMIT.\n",
            "\n",
            "Increase the number of iterations (max_iter) or scale the data as shown in:\n",
            "    https://scikit-learn.org/stable/modules/preprocessing.html\n",
            "Please also refer to the documentation for alternative solver options:\n",
            "    https://scikit-learn.org/stable/modules/linear_model.html#logistic-regression\n",
            "  n_iter_i = _check_optimize_result(\n",
            "c:\\ProgramData\\anaconda3\\lib\\site-packages\\daal4py\\sklearn\\linear_model\\logistic_path.py:574: ConvergenceWarning: lbfgs failed to converge (status=1):\n",
            "STOP: TOTAL NO. of ITERATIONS REACHED LIMIT.\n",
            "\n",
            "Increase the number of iterations (max_iter) or scale the data as shown in:\n",
            "    https://scikit-learn.org/stable/modules/preprocessing.html\n",
            "Please also refer to the documentation for alternative solver options:\n",
            "    https://scikit-learn.org/stable/modules/linear_model.html#logistic-regression\n",
            "  n_iter_i = _check_optimize_result(\n",
            "c:\\ProgramData\\anaconda3\\lib\\site-packages\\daal4py\\sklearn\\linear_model\\logistic_path.py:574: ConvergenceWarning: lbfgs failed to converge (status=1):\n",
            "STOP: TOTAL NO. of ITERATIONS REACHED LIMIT.\n",
            "\n",
            "Increase the number of iterations (max_iter) or scale the data as shown in:\n",
            "    https://scikit-learn.org/stable/modules/preprocessing.html\n",
            "Please also refer to the documentation for alternative solver options:\n",
            "    https://scikit-learn.org/stable/modules/linear_model.html#logistic-regression\n",
            "  n_iter_i = _check_optimize_result(\n",
            "c:\\ProgramData\\anaconda3\\lib\\site-packages\\daal4py\\sklearn\\linear_model\\logistic_path.py:574: ConvergenceWarning: lbfgs failed to converge (status=1):\n",
            "STOP: TOTAL NO. of ITERATIONS REACHED LIMIT.\n",
            "\n",
            "Increase the number of iterations (max_iter) or scale the data as shown in:\n",
            "    https://scikit-learn.org/stable/modules/preprocessing.html\n",
            "Please also refer to the documentation for alternative solver options:\n",
            "    https://scikit-learn.org/stable/modules/linear_model.html#logistic-regression\n",
            "  n_iter_i = _check_optimize_result(\n",
            "c:\\ProgramData\\anaconda3\\lib\\site-packages\\daal4py\\sklearn\\linear_model\\logistic_path.py:574: ConvergenceWarning: lbfgs failed to converge (status=1):\n",
            "STOP: TOTAL NO. of ITERATIONS REACHED LIMIT.\n",
            "\n",
            "Increase the number of iterations (max_iter) or scale the data as shown in:\n",
            "    https://scikit-learn.org/stable/modules/preprocessing.html\n",
            "Please also refer to the documentation for alternative solver options:\n",
            "    https://scikit-learn.org/stable/modules/linear_model.html#logistic-regression\n",
            "  n_iter_i = _check_optimize_result(\n",
            "c:\\ProgramData\\anaconda3\\lib\\site-packages\\daal4py\\sklearn\\linear_model\\logistic_path.py:574: ConvergenceWarning: lbfgs failed to converge (status=1):\n",
            "STOP: TOTAL NO. of ITERATIONS REACHED LIMIT.\n",
            "\n",
            "Increase the number of iterations (max_iter) or scale the data as shown in:\n",
            "    https://scikit-learn.org/stable/modules/preprocessing.html\n",
            "Please also refer to the documentation for alternative solver options:\n",
            "    https://scikit-learn.org/stable/modules/linear_model.html#logistic-regression\n",
            "  n_iter_i = _check_optimize_result(\n",
            "c:\\ProgramData\\anaconda3\\lib\\site-packages\\daal4py\\sklearn\\linear_model\\logistic_path.py:574: ConvergenceWarning: lbfgs failed to converge (status=1):\n",
            "STOP: TOTAL NO. of ITERATIONS REACHED LIMIT.\n",
            "\n",
            "Increase the number of iterations (max_iter) or scale the data as shown in:\n",
            "    https://scikit-learn.org/stable/modules/preprocessing.html\n",
            "Please also refer to the documentation for alternative solver options:\n",
            "    https://scikit-learn.org/stable/modules/linear_model.html#logistic-regression\n",
            "  n_iter_i = _check_optimize_result(\n",
            "c:\\ProgramData\\anaconda3\\lib\\site-packages\\daal4py\\sklearn\\linear_model\\logistic_path.py:574: ConvergenceWarning: lbfgs failed to converge (status=1):\n",
            "STOP: TOTAL NO. of ITERATIONS REACHED LIMIT.\n",
            "\n",
            "Increase the number of iterations (max_iter) or scale the data as shown in:\n",
            "    https://scikit-learn.org/stable/modules/preprocessing.html\n",
            "Please also refer to the documentation for alternative solver options:\n",
            "    https://scikit-learn.org/stable/modules/linear_model.html#logistic-regression\n",
            "  n_iter_i = _check_optimize_result(\n",
            "c:\\ProgramData\\anaconda3\\lib\\site-packages\\daal4py\\sklearn\\linear_model\\logistic_path.py:574: ConvergenceWarning: lbfgs failed to converge (status=1):\n",
            "STOP: TOTAL NO. of ITERATIONS REACHED LIMIT.\n",
            "\n",
            "Increase the number of iterations (max_iter) or scale the data as shown in:\n",
            "    https://scikit-learn.org/stable/modules/preprocessing.html\n",
            "Please also refer to the documentation for alternative solver options:\n",
            "    https://scikit-learn.org/stable/modules/linear_model.html#logistic-regression\n",
            "  n_iter_i = _check_optimize_result(\n",
            "c:\\ProgramData\\anaconda3\\lib\\site-packages\\daal4py\\sklearn\\linear_model\\logistic_path.py:574: ConvergenceWarning: lbfgs failed to converge (status=1):\n",
            "STOP: TOTAL NO. of ITERATIONS REACHED LIMIT.\n",
            "\n",
            "Increase the number of iterations (max_iter) or scale the data as shown in:\n",
            "    https://scikit-learn.org/stable/modules/preprocessing.html\n",
            "Please also refer to the documentation for alternative solver options:\n",
            "    https://scikit-learn.org/stable/modules/linear_model.html#logistic-regression\n",
            "  n_iter_i = _check_optimize_result(\n",
            "c:\\ProgramData\\anaconda3\\lib\\site-packages\\daal4py\\sklearn\\linear_model\\logistic_path.py:574: ConvergenceWarning: lbfgs failed to converge (status=1):\n",
            "STOP: TOTAL NO. of ITERATIONS REACHED LIMIT.\n",
            "\n",
            "Increase the number of iterations (max_iter) or scale the data as shown in:\n",
            "    https://scikit-learn.org/stable/modules/preprocessing.html\n",
            "Please also refer to the documentation for alternative solver options:\n",
            "    https://scikit-learn.org/stable/modules/linear_model.html#logistic-regression\n",
            "  n_iter_i = _check_optimize_result(\n",
            "c:\\ProgramData\\anaconda3\\lib\\site-packages\\daal4py\\sklearn\\linear_model\\logistic_path.py:574: ConvergenceWarning: lbfgs failed to converge (status=1):\n",
            "STOP: TOTAL NO. of ITERATIONS REACHED LIMIT.\n",
            "\n",
            "Increase the number of iterations (max_iter) or scale the data as shown in:\n",
            "    https://scikit-learn.org/stable/modules/preprocessing.html\n",
            "Please also refer to the documentation for alternative solver options:\n",
            "    https://scikit-learn.org/stable/modules/linear_model.html#logistic-regression\n",
            "  n_iter_i = _check_optimize_result(\n",
            "c:\\ProgramData\\anaconda3\\lib\\site-packages\\daal4py\\sklearn\\linear_model\\logistic_path.py:574: ConvergenceWarning: lbfgs failed to converge (status=1):\n",
            "STOP: TOTAL NO. of ITERATIONS REACHED LIMIT.\n",
            "\n",
            "Increase the number of iterations (max_iter) or scale the data as shown in:\n",
            "    https://scikit-learn.org/stable/modules/preprocessing.html\n",
            "Please also refer to the documentation for alternative solver options:\n",
            "    https://scikit-learn.org/stable/modules/linear_model.html#logistic-regression\n",
            "  n_iter_i = _check_optimize_result(\n"
          ]
        },
        {
          "name": "stderr",
          "output_type": "stream",
          "text": [
            "c:\\ProgramData\\anaconda3\\lib\\site-packages\\daal4py\\sklearn\\linear_model\\logistic_path.py:574: ConvergenceWarning: lbfgs failed to converge (status=1):\n",
            "STOP: TOTAL NO. of ITERATIONS REACHED LIMIT.\n",
            "\n",
            "Increase the number of iterations (max_iter) or scale the data as shown in:\n",
            "    https://scikit-learn.org/stable/modules/preprocessing.html\n",
            "Please also refer to the documentation for alternative solver options:\n",
            "    https://scikit-learn.org/stable/modules/linear_model.html#logistic-regression\n",
            "  n_iter_i = _check_optimize_result(\n",
            "c:\\ProgramData\\anaconda3\\lib\\site-packages\\daal4py\\sklearn\\linear_model\\logistic_path.py:574: ConvergenceWarning: lbfgs failed to converge (status=1):\n",
            "STOP: TOTAL NO. of ITERATIONS REACHED LIMIT.\n",
            "\n",
            "Increase the number of iterations (max_iter) or scale the data as shown in:\n",
            "    https://scikit-learn.org/stable/modules/preprocessing.html\n",
            "Please also refer to the documentation for alternative solver options:\n",
            "    https://scikit-learn.org/stable/modules/linear_model.html#logistic-regression\n",
            "  n_iter_i = _check_optimize_result(\n",
            "c:\\ProgramData\\anaconda3\\lib\\site-packages\\daal4py\\sklearn\\linear_model\\logistic_path.py:574: ConvergenceWarning: lbfgs failed to converge (status=1):\n",
            "STOP: TOTAL NO. of ITERATIONS REACHED LIMIT.\n",
            "\n",
            "Increase the number of iterations (max_iter) or scale the data as shown in:\n",
            "    https://scikit-learn.org/stable/modules/preprocessing.html\n",
            "Please also refer to the documentation for alternative solver options:\n",
            "    https://scikit-learn.org/stable/modules/linear_model.html#logistic-regression\n",
            "  n_iter_i = _check_optimize_result(\n",
            "c:\\ProgramData\\anaconda3\\lib\\site-packages\\daal4py\\sklearn\\linear_model\\logistic_path.py:574: ConvergenceWarning: lbfgs failed to converge (status=1):\n",
            "STOP: TOTAL NO. of ITERATIONS REACHED LIMIT.\n",
            "\n",
            "Increase the number of iterations (max_iter) or scale the data as shown in:\n",
            "    https://scikit-learn.org/stable/modules/preprocessing.html\n",
            "Please also refer to the documentation for alternative solver options:\n",
            "    https://scikit-learn.org/stable/modules/linear_model.html#logistic-regression\n",
            "  n_iter_i = _check_optimize_result(\n",
            "c:\\ProgramData\\anaconda3\\lib\\site-packages\\daal4py\\sklearn\\linear_model\\logistic_path.py:574: ConvergenceWarning: lbfgs failed to converge (status=1):\n",
            "STOP: TOTAL NO. of ITERATIONS REACHED LIMIT.\n",
            "\n",
            "Increase the number of iterations (max_iter) or scale the data as shown in:\n",
            "    https://scikit-learn.org/stable/modules/preprocessing.html\n",
            "Please also refer to the documentation for alternative solver options:\n",
            "    https://scikit-learn.org/stable/modules/linear_model.html#logistic-regression\n",
            "  n_iter_i = _check_optimize_result(\n",
            "c:\\ProgramData\\anaconda3\\lib\\site-packages\\daal4py\\sklearn\\linear_model\\logistic_path.py:574: ConvergenceWarning: lbfgs failed to converge (status=1):\n",
            "STOP: TOTAL NO. of ITERATIONS REACHED LIMIT.\n",
            "\n",
            "Increase the number of iterations (max_iter) or scale the data as shown in:\n",
            "    https://scikit-learn.org/stable/modules/preprocessing.html\n",
            "Please also refer to the documentation for alternative solver options:\n",
            "    https://scikit-learn.org/stable/modules/linear_model.html#logistic-regression\n",
            "  n_iter_i = _check_optimize_result(\n",
            "c:\\ProgramData\\anaconda3\\lib\\site-packages\\daal4py\\sklearn\\linear_model\\logistic_path.py:574: ConvergenceWarning: lbfgs failed to converge (status=1):\n",
            "STOP: TOTAL NO. of ITERATIONS REACHED LIMIT.\n",
            "\n",
            "Increase the number of iterations (max_iter) or scale the data as shown in:\n",
            "    https://scikit-learn.org/stable/modules/preprocessing.html\n",
            "Please also refer to the documentation for alternative solver options:\n",
            "    https://scikit-learn.org/stable/modules/linear_model.html#logistic-regression\n",
            "  n_iter_i = _check_optimize_result(\n",
            "c:\\ProgramData\\anaconda3\\lib\\site-packages\\daal4py\\sklearn\\linear_model\\logistic_path.py:574: ConvergenceWarning: lbfgs failed to converge (status=1):\n",
            "STOP: TOTAL NO. of ITERATIONS REACHED LIMIT.\n",
            "\n",
            "Increase the number of iterations (max_iter) or scale the data as shown in:\n",
            "    https://scikit-learn.org/stable/modules/preprocessing.html\n",
            "Please also refer to the documentation for alternative solver options:\n",
            "    https://scikit-learn.org/stable/modules/linear_model.html#logistic-regression\n",
            "  n_iter_i = _check_optimize_result(\n",
            "c:\\ProgramData\\anaconda3\\lib\\site-packages\\daal4py\\sklearn\\linear_model\\logistic_path.py:574: ConvergenceWarning: lbfgs failed to converge (status=1):\n",
            "STOP: TOTAL NO. of ITERATIONS REACHED LIMIT.\n",
            "\n",
            "Increase the number of iterations (max_iter) or scale the data as shown in:\n",
            "    https://scikit-learn.org/stable/modules/preprocessing.html\n",
            "Please also refer to the documentation for alternative solver options:\n",
            "    https://scikit-learn.org/stable/modules/linear_model.html#logistic-regression\n",
            "  n_iter_i = _check_optimize_result(\n",
            "c:\\ProgramData\\anaconda3\\lib\\site-packages\\daal4py\\sklearn\\linear_model\\logistic_path.py:574: ConvergenceWarning: lbfgs failed to converge (status=1):\n",
            "STOP: TOTAL NO. of ITERATIONS REACHED LIMIT.\n",
            "\n",
            "Increase the number of iterations (max_iter) or scale the data as shown in:\n",
            "    https://scikit-learn.org/stable/modules/preprocessing.html\n",
            "Please also refer to the documentation for alternative solver options:\n",
            "    https://scikit-learn.org/stable/modules/linear_model.html#logistic-regression\n",
            "  n_iter_i = _check_optimize_result(\n",
            "c:\\ProgramData\\anaconda3\\lib\\site-packages\\daal4py\\sklearn\\linear_model\\logistic_path.py:574: ConvergenceWarning: lbfgs failed to converge (status=1):\n",
            "STOP: TOTAL NO. of ITERATIONS REACHED LIMIT.\n",
            "\n",
            "Increase the number of iterations (max_iter) or scale the data as shown in:\n",
            "    https://scikit-learn.org/stable/modules/preprocessing.html\n",
            "Please also refer to the documentation for alternative solver options:\n",
            "    https://scikit-learn.org/stable/modules/linear_model.html#logistic-regression\n",
            "  n_iter_i = _check_optimize_result(\n",
            "c:\\ProgramData\\anaconda3\\lib\\site-packages\\daal4py\\sklearn\\linear_model\\logistic_path.py:574: ConvergenceWarning: lbfgs failed to converge (status=1):\n",
            "STOP: TOTAL NO. of ITERATIONS REACHED LIMIT.\n",
            "\n",
            "Increase the number of iterations (max_iter) or scale the data as shown in:\n",
            "    https://scikit-learn.org/stable/modules/preprocessing.html\n",
            "Please also refer to the documentation for alternative solver options:\n",
            "    https://scikit-learn.org/stable/modules/linear_model.html#logistic-regression\n",
            "  n_iter_i = _check_optimize_result(\n",
            "c:\\ProgramData\\anaconda3\\lib\\site-packages\\daal4py\\sklearn\\linear_model\\logistic_path.py:574: ConvergenceWarning: lbfgs failed to converge (status=1):\n",
            "STOP: TOTAL NO. of ITERATIONS REACHED LIMIT.\n",
            "\n",
            "Increase the number of iterations (max_iter) or scale the data as shown in:\n",
            "    https://scikit-learn.org/stable/modules/preprocessing.html\n",
            "Please also refer to the documentation for alternative solver options:\n",
            "    https://scikit-learn.org/stable/modules/linear_model.html#logistic-regression\n",
            "  n_iter_i = _check_optimize_result(\n",
            "c:\\ProgramData\\anaconda3\\lib\\site-packages\\daal4py\\sklearn\\linear_model\\logistic_path.py:574: ConvergenceWarning: lbfgs failed to converge (status=1):\n",
            "STOP: TOTAL NO. of ITERATIONS REACHED LIMIT.\n",
            "\n",
            "Increase the number of iterations (max_iter) or scale the data as shown in:\n",
            "    https://scikit-learn.org/stable/modules/preprocessing.html\n",
            "Please also refer to the documentation for alternative solver options:\n",
            "    https://scikit-learn.org/stable/modules/linear_model.html#logistic-regression\n",
            "  n_iter_i = _check_optimize_result(\n",
            "c:\\ProgramData\\anaconda3\\lib\\site-packages\\daal4py\\sklearn\\linear_model\\logistic_path.py:574: ConvergenceWarning: lbfgs failed to converge (status=1):\n",
            "STOP: TOTAL NO. of ITERATIONS REACHED LIMIT.\n",
            "\n",
            "Increase the number of iterations (max_iter) or scale the data as shown in:\n",
            "    https://scikit-learn.org/stable/modules/preprocessing.html\n",
            "Please also refer to the documentation for alternative solver options:\n",
            "    https://scikit-learn.org/stable/modules/linear_model.html#logistic-regression\n",
            "  n_iter_i = _check_optimize_result(\n",
            "c:\\ProgramData\\anaconda3\\lib\\site-packages\\daal4py\\sklearn\\linear_model\\logistic_path.py:574: ConvergenceWarning: lbfgs failed to converge (status=1):\n",
            "STOP: TOTAL NO. of ITERATIONS REACHED LIMIT.\n",
            "\n",
            "Increase the number of iterations (max_iter) or scale the data as shown in:\n",
            "    https://scikit-learn.org/stable/modules/preprocessing.html\n",
            "Please also refer to the documentation for alternative solver options:\n",
            "    https://scikit-learn.org/stable/modules/linear_model.html#logistic-regression\n",
            "  n_iter_i = _check_optimize_result(\n",
            "c:\\ProgramData\\anaconda3\\lib\\site-packages\\daal4py\\sklearn\\linear_model\\logistic_path.py:574: ConvergenceWarning: lbfgs failed to converge (status=1):\n",
            "STOP: TOTAL NO. of ITERATIONS REACHED LIMIT.\n",
            "\n",
            "Increase the number of iterations (max_iter) or scale the data as shown in:\n",
            "    https://scikit-learn.org/stable/modules/preprocessing.html\n",
            "Please also refer to the documentation for alternative solver options:\n",
            "    https://scikit-learn.org/stable/modules/linear_model.html#logistic-regression\n",
            "  n_iter_i = _check_optimize_result(\n",
            "c:\\ProgramData\\anaconda3\\lib\\site-packages\\daal4py\\sklearn\\linear_model\\logistic_path.py:574: ConvergenceWarning: lbfgs failed to converge (status=1):\n",
            "STOP: TOTAL NO. of ITERATIONS REACHED LIMIT.\n",
            "\n",
            "Increase the number of iterations (max_iter) or scale the data as shown in:\n",
            "    https://scikit-learn.org/stable/modules/preprocessing.html\n",
            "Please also refer to the documentation for alternative solver options:\n",
            "    https://scikit-learn.org/stable/modules/linear_model.html#logistic-regression\n",
            "  n_iter_i = _check_optimize_result(\n",
            "c:\\ProgramData\\anaconda3\\lib\\site-packages\\daal4py\\sklearn\\linear_model\\logistic_path.py:574: ConvergenceWarning: lbfgs failed to converge (status=1):\n",
            "STOP: TOTAL NO. of ITERATIONS REACHED LIMIT.\n",
            "\n",
            "Increase the number of iterations (max_iter) or scale the data as shown in:\n",
            "    https://scikit-learn.org/stable/modules/preprocessing.html\n",
            "Please also refer to the documentation for alternative solver options:\n",
            "    https://scikit-learn.org/stable/modules/linear_model.html#logistic-regression\n",
            "  n_iter_i = _check_optimize_result(\n",
            "c:\\ProgramData\\anaconda3\\lib\\site-packages\\daal4py\\sklearn\\linear_model\\logistic_path.py:574: ConvergenceWarning: lbfgs failed to converge (status=1):\n",
            "STOP: TOTAL NO. of ITERATIONS REACHED LIMIT.\n",
            "\n",
            "Increase the number of iterations (max_iter) or scale the data as shown in:\n",
            "    https://scikit-learn.org/stable/modules/preprocessing.html\n",
            "Please also refer to the documentation for alternative solver options:\n",
            "    https://scikit-learn.org/stable/modules/linear_model.html#logistic-regression\n",
            "  n_iter_i = _check_optimize_result(\n",
            "c:\\ProgramData\\anaconda3\\lib\\site-packages\\daal4py\\sklearn\\linear_model\\logistic_path.py:574: ConvergenceWarning: lbfgs failed to converge (status=1):\n",
            "STOP: TOTAL NO. of ITERATIONS REACHED LIMIT.\n",
            "\n",
            "Increase the number of iterations (max_iter) or scale the data as shown in:\n",
            "    https://scikit-learn.org/stable/modules/preprocessing.html\n",
            "Please also refer to the documentation for alternative solver options:\n",
            "    https://scikit-learn.org/stable/modules/linear_model.html#logistic-regression\n",
            "  n_iter_i = _check_optimize_result(\n",
            "c:\\ProgramData\\anaconda3\\lib\\site-packages\\daal4py\\sklearn\\linear_model\\logistic_path.py:574: ConvergenceWarning: lbfgs failed to converge (status=1):\n",
            "STOP: TOTAL NO. of ITERATIONS REACHED LIMIT.\n",
            "\n",
            "Increase the number of iterations (max_iter) or scale the data as shown in:\n",
            "    https://scikit-learn.org/stable/modules/preprocessing.html\n",
            "Please also refer to the documentation for alternative solver options:\n",
            "    https://scikit-learn.org/stable/modules/linear_model.html#logistic-regression\n",
            "  n_iter_i = _check_optimize_result(\n",
            "c:\\ProgramData\\anaconda3\\lib\\site-packages\\daal4py\\sklearn\\linear_model\\logistic_path.py:574: ConvergenceWarning: lbfgs failed to converge (status=1):\n",
            "STOP: TOTAL NO. of ITERATIONS REACHED LIMIT.\n",
            "\n",
            "Increase the number of iterations (max_iter) or scale the data as shown in:\n",
            "    https://scikit-learn.org/stable/modules/preprocessing.html\n",
            "Please also refer to the documentation for alternative solver options:\n",
            "    https://scikit-learn.org/stable/modules/linear_model.html#logistic-regression\n",
            "  n_iter_i = _check_optimize_result(\n",
            "c:\\ProgramData\\anaconda3\\lib\\site-packages\\daal4py\\sklearn\\linear_model\\logistic_path.py:574: ConvergenceWarning: lbfgs failed to converge (status=1):\n",
            "STOP: TOTAL NO. of ITERATIONS REACHED LIMIT.\n",
            "\n",
            "Increase the number of iterations (max_iter) or scale the data as shown in:\n",
            "    https://scikit-learn.org/stable/modules/preprocessing.html\n",
            "Please also refer to the documentation for alternative solver options:\n",
            "    https://scikit-learn.org/stable/modules/linear_model.html#logistic-regression\n",
            "  n_iter_i = _check_optimize_result(\n",
            "c:\\ProgramData\\anaconda3\\lib\\site-packages\\daal4py\\sklearn\\linear_model\\logistic_path.py:574: ConvergenceWarning: lbfgs failed to converge (status=1):\n",
            "STOP: TOTAL NO. of ITERATIONS REACHED LIMIT.\n",
            "\n",
            "Increase the number of iterations (max_iter) or scale the data as shown in:\n",
            "    https://scikit-learn.org/stable/modules/preprocessing.html\n",
            "Please also refer to the documentation for alternative solver options:\n",
            "    https://scikit-learn.org/stable/modules/linear_model.html#logistic-regression\n",
            "  n_iter_i = _check_optimize_result(\n",
            "c:\\ProgramData\\anaconda3\\lib\\site-packages\\daal4py\\sklearn\\linear_model\\logistic_path.py:574: ConvergenceWarning: lbfgs failed to converge (status=1):\n",
            "STOP: TOTAL NO. of ITERATIONS REACHED LIMIT.\n",
            "\n",
            "Increase the number of iterations (max_iter) or scale the data as shown in:\n",
            "    https://scikit-learn.org/stable/modules/preprocessing.html\n",
            "Please also refer to the documentation for alternative solver options:\n",
            "    https://scikit-learn.org/stable/modules/linear_model.html#logistic-regression\n",
            "  n_iter_i = _check_optimize_result(\n",
            "c:\\ProgramData\\anaconda3\\lib\\site-packages\\daal4py\\sklearn\\linear_model\\logistic_path.py:574: ConvergenceWarning: lbfgs failed to converge (status=1):\n",
            "STOP: TOTAL NO. of ITERATIONS REACHED LIMIT.\n",
            "\n",
            "Increase the number of iterations (max_iter) or scale the data as shown in:\n",
            "    https://scikit-learn.org/stable/modules/preprocessing.html\n",
            "Please also refer to the documentation for alternative solver options:\n",
            "    https://scikit-learn.org/stable/modules/linear_model.html#logistic-regression\n",
            "  n_iter_i = _check_optimize_result(\n",
            "c:\\ProgramData\\anaconda3\\lib\\site-packages\\daal4py\\sklearn\\linear_model\\logistic_path.py:574: ConvergenceWarning: lbfgs failed to converge (status=1):\n",
            "STOP: TOTAL NO. of ITERATIONS REACHED LIMIT.\n",
            "\n",
            "Increase the number of iterations (max_iter) or scale the data as shown in:\n",
            "    https://scikit-learn.org/stable/modules/preprocessing.html\n",
            "Please also refer to the documentation for alternative solver options:\n",
            "    https://scikit-learn.org/stable/modules/linear_model.html#logistic-regression\n",
            "  n_iter_i = _check_optimize_result(\n",
            "c:\\ProgramData\\anaconda3\\lib\\site-packages\\daal4py\\sklearn\\linear_model\\logistic_path.py:574: ConvergenceWarning: lbfgs failed to converge (status=1):\n",
            "STOP: TOTAL NO. of ITERATIONS REACHED LIMIT.\n",
            "\n",
            "Increase the number of iterations (max_iter) or scale the data as shown in:\n",
            "    https://scikit-learn.org/stable/modules/preprocessing.html\n",
            "Please also refer to the documentation for alternative solver options:\n",
            "    https://scikit-learn.org/stable/modules/linear_model.html#logistic-regression\n",
            "  n_iter_i = _check_optimize_result(\n",
            "c:\\ProgramData\\anaconda3\\lib\\site-packages\\daal4py\\sklearn\\linear_model\\logistic_path.py:574: ConvergenceWarning: lbfgs failed to converge (status=1):\n",
            "STOP: TOTAL NO. of ITERATIONS REACHED LIMIT.\n",
            "\n",
            "Increase the number of iterations (max_iter) or scale the data as shown in:\n",
            "    https://scikit-learn.org/stable/modules/preprocessing.html\n",
            "Please also refer to the documentation for alternative solver options:\n",
            "    https://scikit-learn.org/stable/modules/linear_model.html#logistic-regression\n",
            "  n_iter_i = _check_optimize_result(\n",
            "c:\\ProgramData\\anaconda3\\lib\\site-packages\\daal4py\\sklearn\\linear_model\\logistic_path.py:574: ConvergenceWarning: lbfgs failed to converge (status=1):\n",
            "STOP: TOTAL NO. of ITERATIONS REACHED LIMIT.\n",
            "\n",
            "Increase the number of iterations (max_iter) or scale the data as shown in:\n",
            "    https://scikit-learn.org/stable/modules/preprocessing.html\n",
            "Please also refer to the documentation for alternative solver options:\n",
            "    https://scikit-learn.org/stable/modules/linear_model.html#logistic-regression\n",
            "  n_iter_i = _check_optimize_result(\n",
            "c:\\ProgramData\\anaconda3\\lib\\site-packages\\daal4py\\sklearn\\linear_model\\logistic_path.py:574: ConvergenceWarning: lbfgs failed to converge (status=1):\n",
            "STOP: TOTAL NO. of ITERATIONS REACHED LIMIT.\n",
            "\n",
            "Increase the number of iterations (max_iter) or scale the data as shown in:\n",
            "    https://scikit-learn.org/stable/modules/preprocessing.html\n",
            "Please also refer to the documentation for alternative solver options:\n",
            "    https://scikit-learn.org/stable/modules/linear_model.html#logistic-regression\n",
            "  n_iter_i = _check_optimize_result(\n",
            "c:\\ProgramData\\anaconda3\\lib\\site-packages\\daal4py\\sklearn\\linear_model\\logistic_path.py:574: ConvergenceWarning: lbfgs failed to converge (status=1):\n",
            "STOP: TOTAL NO. of ITERATIONS REACHED LIMIT.\n",
            "\n",
            "Increase the number of iterations (max_iter) or scale the data as shown in:\n",
            "    https://scikit-learn.org/stable/modules/preprocessing.html\n",
            "Please also refer to the documentation for alternative solver options:\n",
            "    https://scikit-learn.org/stable/modules/linear_model.html#logistic-regression\n",
            "  n_iter_i = _check_optimize_result(\n",
            "c:\\ProgramData\\anaconda3\\lib\\site-packages\\daal4py\\sklearn\\linear_model\\logistic_path.py:574: ConvergenceWarning: lbfgs failed to converge (status=1):\n",
            "STOP: TOTAL NO. of ITERATIONS REACHED LIMIT.\n",
            "\n",
            "Increase the number of iterations (max_iter) or scale the data as shown in:\n",
            "    https://scikit-learn.org/stable/modules/preprocessing.html\n",
            "Please also refer to the documentation for alternative solver options:\n",
            "    https://scikit-learn.org/stable/modules/linear_model.html#logistic-regression\n",
            "  n_iter_i = _check_optimize_result(\n",
            "c:\\ProgramData\\anaconda3\\lib\\site-packages\\daal4py\\sklearn\\linear_model\\logistic_path.py:574: ConvergenceWarning: lbfgs failed to converge (status=1):\n",
            "STOP: TOTAL NO. of ITERATIONS REACHED LIMIT.\n",
            "\n",
            "Increase the number of iterations (max_iter) or scale the data as shown in:\n",
            "    https://scikit-learn.org/stable/modules/preprocessing.html\n",
            "Please also refer to the documentation for alternative solver options:\n",
            "    https://scikit-learn.org/stable/modules/linear_model.html#logistic-regression\n",
            "  n_iter_i = _check_optimize_result(\n",
            "c:\\ProgramData\\anaconda3\\lib\\site-packages\\daal4py\\sklearn\\linear_model\\logistic_path.py:574: ConvergenceWarning: lbfgs failed to converge (status=1):\n",
            "STOP: TOTAL NO. of ITERATIONS REACHED LIMIT.\n",
            "\n",
            "Increase the number of iterations (max_iter) or scale the data as shown in:\n",
            "    https://scikit-learn.org/stable/modules/preprocessing.html\n",
            "Please also refer to the documentation for alternative solver options:\n",
            "    https://scikit-learn.org/stable/modules/linear_model.html#logistic-regression\n",
            "  n_iter_i = _check_optimize_result(\n",
            "c:\\ProgramData\\anaconda3\\lib\\site-packages\\daal4py\\sklearn\\linear_model\\logistic_path.py:574: ConvergenceWarning: lbfgs failed to converge (status=1):\n",
            "STOP: TOTAL NO. of ITERATIONS REACHED LIMIT.\n",
            "\n",
            "Increase the number of iterations (max_iter) or scale the data as shown in:\n",
            "    https://scikit-learn.org/stable/modules/preprocessing.html\n",
            "Please also refer to the documentation for alternative solver options:\n",
            "    https://scikit-learn.org/stable/modules/linear_model.html#logistic-regression\n",
            "  n_iter_i = _check_optimize_result(\n"
          ]
        },
        {
          "data": {
            "text/plain": [
              "(0.7115446704866798, LogisticRegression(C=8.966842105263158))"
            ]
          },
          "execution_count": 21,
          "metadata": {},
          "output_type": "execute_result"
        }
      ],
      "source": [
        "from sklearn.model_selection import GridSearchCV\n",
        "\n",
        "params = {'C' : np.linspace(0.1, 10.01, 20)}\n",
        "\n",
        "gs = GridSearchCV(LogisticRegression(), params, cv=3, scoring='roc_auc')\n",
        "\n",
        "gs.fit(Xtrain, ytrain)\n",
        "\n",
        "gs.best_score_, gs.best_estimator_"
      ]
    },
    {
      "cell_type": "code",
      "execution_count": 22,
      "metadata": {
        "id": "gdpy_r1k4qNs"
      },
      "outputs": [
        {
          "name": "stdout",
          "output_type": "stream",
          "text": [
            "0.786472570603259\n"
          ]
        }
      ],
      "source": [
        "from sklearn.metrics import roc_auc_score\n",
        "\n",
        "lr = gs.best_estimator_\n",
        "\n",
        "pred_lr = lr.predict_proba(Xtest)[:,1]\n",
        "print(roc_auc_score(ytest, pred_lr))"
      ]
    },
    {
      "cell_type": "code",
      "execution_count": 33,
      "metadata": {
        "id": "EzZ8K1eI5FLU"
      },
      "outputs": [
        {
          "name": "stderr",
          "output_type": "stream",
          "text": [
            "C:\\Users\\админ\\AppData\\Roaming\\Python\\Python310\\site-packages\\sklearn\\model_selection\\_validation.py:378: FitFailedWarning: \n",
            "30 fits failed out of a total of 60.\n",
            "The score on these train-test partitions for these parameters will be set to nan.\n",
            "If these failures are not expected, you can try to debug them by setting error_score='raise'.\n",
            "\n",
            "Below are more details about the failures:\n",
            "--------------------------------------------------------------------------------\n",
            "30 fits failed with the following error:\n",
            "Traceback (most recent call last):\n",
            "  File \"C:\\Users\\админ\\AppData\\Roaming\\Python\\Python310\\site-packages\\sklearn\\model_selection\\_validation.py\", line 686, in _fit_and_score\n",
            "    estimator.fit(X_train, y_train, **fit_params)\n",
            "  File \"C:\\Users\\админ\\AppData\\Roaming\\Python\\Python310\\site-packages\\sklearn\\tree\\_classes.py\", line 889, in fit\n",
            "    super().fit(\n",
            "  File \"C:\\Users\\админ\\AppData\\Roaming\\Python\\Python310\\site-packages\\sklearn\\tree\\_classes.py\", line 177, in fit\n",
            "    self._validate_params()\n",
            "  File \"C:\\Users\\админ\\AppData\\Roaming\\Python\\Python310\\site-packages\\sklearn\\base.py\", line 600, in _validate_params\n",
            "    validate_parameter_constraints(\n",
            "  File \"C:\\Users\\админ\\AppData\\Roaming\\Python\\Python310\\site-packages\\sklearn\\utils\\_param_validation.py\", line 97, in validate_parameter_constraints\n",
            "    raise InvalidParameterError(\n",
            "sklearn.utils._param_validation.InvalidParameterError: The 'criterion' parameter of DecisionTreeClassifier must be a str among {'entropy', 'gini', 'log_loss'}. Got 'entopy' instead.\n",
            "\n",
            "  warnings.warn(some_fits_failed_message, FitFailedWarning)\n",
            "C:\\Users\\админ\\AppData\\Roaming\\Python\\Python310\\site-packages\\sklearn\\model_selection\\_search.py:952: UserWarning: One or more of the test scores are non-finite: [0.59479559 0.72115088 0.8142204  0.86160598 0.86329288 0.86442631\n",
            " 0.83102271 0.8300624  0.82368039 0.80404965        nan        nan\n",
            "        nan        nan        nan        nan        nan        nan\n",
            "        nan        nan]\n",
            "  warnings.warn(\n"
          ]
        },
        {
          "data": {
            "text/plain": [
              "(DecisionTreeClassifier(max_depth=6, random_state=42),\n",
              " {'criterion': 'gini', 'max_depth': 6})"
            ]
          },
          "execution_count": 33,
          "metadata": {},
          "output_type": "execute_result"
        }
      ],
      "source": [
        "params = {'max_depth' : range(1,11, 1),\n",
        "          'criterion' : ['gini', 'entopy']}\n",
        "\n",
        "gs = GridSearchCV(DecisionTreeClassifier(random_state=RANDOM_STATE), param_grid=params, cv=3, scoring='roc_auc')\n",
        "gs.fit(Xtrain, ytrain)\n",
        "\n",
        "gs.best_estimator_, gs.best_params_"
      ]
    },
    {
      "cell_type": "markdown",
      "metadata": {
        "id": "YkX2K2-9Z2Xf"
      },
      "source": [
        "### Вопрос\n",
        "\n",
        "Чему равно качество решающего дерева с подобранными гиперпараметрами, посчитанное на тестовой выборке?\n",
        "\n",
        "Ответ округлите до сотых."
      ]
    },
    {
      "cell_type": "code",
      "execution_count": 34,
      "metadata": {},
      "outputs": [
        {
          "name": "stdout",
          "output_type": "stream",
          "text": [
            "Roc-Auc:0.8555540142471297\n"
          ]
        }
      ],
      "source": [
        "ypred = gs.best_estimator_.predict_proba(Xtest)[:,1]\n",
        "print(f'Roc-Auc:{roc_auc_score(ytest, ypred)}')"
      ]
    },
    {
      "cell_type": "markdown",
      "metadata": {
        "id": "LJdQGP5B6UuT"
      },
      "source": [
        "Какая модель справилась с решением задачи лучше всего по метрике roc_auc?"
      ]
    },
    {
      "cell_type": "markdown",
      "metadata": {},
      "source": [
        "DecisionTreeClassifier"
      ]
    },
    {
      "cell_type": "markdown",
      "metadata": {
        "id": "9QqqeHyP6Y4o"
      },
      "source": [
        "Нарисуйте roc-кривую для наилучшей модели."
      ]
    },
    {
      "cell_type": "code",
      "execution_count": 36,
      "metadata": {
        "id": "xzrjnbQB6YMA"
      },
      "outputs": [
        {
          "data": {
            "image/png": "[encoded data removed]",
            "text/plain": [
              "<Figure size 640x480 with 1 Axes>"
            ]
          },
          "metadata": {},
          "output_type": "display_data"
        }
      ],
      "source": [
        "from sklearn.metrics import roc_curve\n",
        "from matplotlib import pyplot as plt\n",
        "\n",
        "fpr, tpr, thresholds = roc_curve(ytest, ypred)\n",
        "\n",
        "plt.plot(fpr, tpr, color='darkorange', label='ROC curve (area = %0.2f)')\n",
        "plt.plot([0, 1], [0, 1], color='navy', linestyle='--')\n",
        "plt.xlabel('False Positive Rate')\n",
        "plt.ylabel('True Positive Rate')\n",
        "plt.title('Receiver Operating Characteristic (ROC)')\n",
        "plt.legend(loc=\"lower right\")\n",
        "plt.show()"
      ]
    }
  ],
  "metadata": {
    "colab": {
      "provenance": []
    },
    "kernelspec": {
      "display_name": "Python 3",
      "name": "python3"
    },
    "language_info": {
      "codemirror_mode": {
        "name": "ipython",
        "version": 3
      },
      "file_extension": ".py",
      "mimetype": "text/x-python",
      "name": "python",
      "nbconvert_exporter": "python",
      "pygments_lexer": "ipython3",
      "version": "3.10.9"
    }
  },
  "nbformat": 4,
  "nbformat_minor": 0
}
